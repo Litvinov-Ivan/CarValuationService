{
 "cells": [
  {
   "cell_type": "code",
   "execution_count": 1,
   "id": "c6708b75",
   "metadata": {},
   "outputs": [],
   "source": [
    "%load_ext autoreload\n",
    "%autoreload 2"
   ]
  },
  {
   "cell_type": "code",
   "execution_count": 31,
   "id": "dd9440a2",
   "metadata": {
    "execution": {
     "iopub.execute_input": "2022-12-30T16:21:10.833423Z",
     "iopub.status.busy": "2022-12-30T16:21:10.832354Z",
     "iopub.status.idle": "2022-12-30T16:21:10.840547Z",
     "shell.execute_reply": "2022-12-30T16:21:10.839595Z",
     "shell.execute_reply.started": "2022-12-30T16:21:10.833371Z"
    }
   },
   "outputs": [],
   "source": [
    "import numpy as np\n",
    "import pandas as pd\n",
    "import catboost as cb\n",
    "import matplotlib.pyplot as plt\n",
    "import seaborn as sns\n",
    "import warnings\n",
    "import gensim\n",
    "import optuna\n",
    "\n",
    "from sklearn.metrics import precision_score, roc_auc_score\n",
    "from sklearn.base import BaseEstimator, TransformerMixin\n",
    "from sklearn.preprocessing import StandardScaler\n",
    "from sklearn.decomposition import PCA\n",
    "from sklearn.pipeline import Pipeline\n",
    "from sklearn.compose import ColumnTransformer\n",
    "\n",
    "from nltk.corpus import stopwords\n",
    "from pymystem3 import Mystem\n",
    "from string import punctuation\n",
    "from gensim.models.callbacks import CallbackAny2Vec\n",
    "from gensim.models.word2vec import Word2Vec\n",
    "\n",
    "\n",
    "warnings.simplefilter('ignore')\n",
    "np.random.seed(10)"
   ]
  },
  {
   "cell_type": "markdown",
   "id": "0f0ccfc9",
   "metadata": {},
   "source": [
    "Загрузим train и test"
   ]
  },
  {
   "cell_type": "code",
   "execution_count": 79,
   "id": "cd9958a7",
   "metadata": {
    "execution": {
     "iopub.execute_input": "2022-12-30T16:21:11.570494Z",
     "iopub.status.busy": "2022-12-30T16:21:11.569620Z",
     "iopub.status.idle": "2022-12-30T16:21:16.381553Z",
     "shell.execute_reply": "2022-12-30T16:21:16.380189Z",
     "shell.execute_reply.started": "2022-12-30T16:21:11.570429Z"
    }
   },
   "outputs": [
    {
     "data": {
      "text/plain": [
       "(1424484, 19)"
      ]
     },
     "execution_count": 79,
     "metadata": {},
     "output_type": "execute_result"
    }
   ],
   "source": [
    "data = pd.read_feather(\n",
    "    '../data/project_train.f', \n",
    "    columns=[\n",
    "        'brand',\n",
    "        'sale_end_date',\n",
    "        'price',\n",
    "        'actual_price',\n",
    "        'description',\n",
    "        'model',\n",
    "        'year',\n",
    "        'generation',\n",
    "        'modification',\n",
    "        'color',\n",
    "        'body_type',\n",
    "        'equipment',\n",
    "        'owners_count',\n",
    "        'mileage',\n",
    "        'latitude',\n",
    "        'longitude',\n",
    "        'crashes',\n",
    "        'is_taxi',\n",
    "        'is_carsharing'\n",
    "    ]\n",
    ")\n",
    "DEALER = ~data.actual_price.isna()\n",
    "data.shape"
   ]
  },
  {
   "cell_type": "markdown",
   "id": "c5eca47c",
   "metadata": {},
   "source": [
    "\n",
    "Для бейзлайна будем использовать в обучении только те данные, по которым есть actual_price, то есть цена сделки – наш финальный таргет."
   ]
  },
  {
   "cell_type": "code",
   "execution_count": 80,
   "id": "07480912",
   "metadata": {
    "execution": {
     "iopub.execute_input": "2022-12-30T16:21:24.201057Z",
     "iopub.status.busy": "2022-12-30T16:21:24.200655Z",
     "iopub.status.idle": "2022-12-30T16:21:24.241397Z",
     "shell.execute_reply": "2022-12-30T16:21:24.239979Z",
     "shell.execute_reply.started": "2022-12-30T16:21:24.201026Z"
    }
   },
   "outputs": [],
   "source": [
    "data, users = data[DEALER], data[~DEALER]"
   ]
  },
  {
   "cell_type": "code",
   "execution_count": 81,
   "id": "56665bbc",
   "metadata": {},
   "outputs": [
    {
     "data": {
      "text/plain": [
       "(Timestamp('2022-06-11 00:00:00'), Timestamp('2023-02-05 00:00:00'))"
      ]
     },
     "execution_count": 81,
     "metadata": {},
     "output_type": "execute_result"
    }
   ],
   "source": [
    "data.sale_end_date.min(), data.sale_end_date.max() "
   ]
  },
  {
   "cell_type": "markdown",
   "id": "bd863c43",
   "metadata": {},
   "source": [
    "Разобьём выборку на train, val и test. Будем использовать временную валидацию."
   ]
  },
  {
   "cell_type": "code",
   "execution_count": 82,
   "id": "8d10c7fb",
   "metadata": {
    "execution": {
     "iopub.execute_input": "2022-12-30T16:21:27.164380Z",
     "iopub.status.busy": "2022-12-30T16:21:27.163989Z",
     "iopub.status.idle": "2022-12-30T16:21:27.354961Z",
     "shell.execute_reply": "2022-12-30T16:21:27.353590Z",
     "shell.execute_reply.started": "2022-12-30T16:21:27.164351Z"
    }
   },
   "outputs": [],
   "source": [
    "data['sale_end_date'] = pd.to_datetime(data['sale_end_date'])"
   ]
  },
  {
   "cell_type": "code",
   "execution_count": 83,
   "id": "70dd8094",
   "metadata": {
    "scrolled": true
   },
   "outputs": [
    {
     "name": "stdout",
     "output_type": "stream",
     "text": [
      "<class 'pandas.core.frame.DataFrame'>\n",
      "Int64Index: 81426 entries, 6 to 1424254\n",
      "Data columns (total 19 columns):\n",
      " #   Column         Non-Null Count  Dtype         \n",
      "---  ------         --------------  -----         \n",
      " 0   brand          81426 non-null  object        \n",
      " 1   sale_end_date  81426 non-null  datetime64[ns]\n",
      " 2   price          81426 non-null  object        \n",
      " 3   actual_price   81426 non-null  float64       \n",
      " 4   description    81393 non-null  object        \n",
      " 5   model          81426 non-null  object        \n",
      " 6   year           81426 non-null  int64         \n",
      " 7   generation     81426 non-null  object        \n",
      " 8   modification   81426 non-null  object        \n",
      " 9   color          81426 non-null  object        \n",
      " 10  body_type      81426 non-null  object        \n",
      " 11  equipment      42733 non-null  object        \n",
      " 12  owners_count   81426 non-null  object        \n",
      " 13  mileage        81426 non-null  int64         \n",
      " 14  latitude       81426 non-null  float64       \n",
      " 15  longitude      81426 non-null  float64       \n",
      " 16  crashes        80936 non-null  float64       \n",
      " 17  is_taxi        80936 non-null  float64       \n",
      " 18  is_carsharing  80866 non-null  float64       \n",
      "dtypes: datetime64[ns](1), float64(6), int64(2), object(10)\n",
      "memory usage: 12.4+ MB\n"
     ]
    }
   ],
   "source": [
    "data.info()"
   ]
  },
  {
   "cell_type": "code",
   "execution_count": 84,
   "id": "bb6d7d6b",
   "metadata": {},
   "outputs": [],
   "source": [
    "train_delta = 30\n",
    "val_delta = 10\n",
    "\n",
    "TRAIN_SPLIT = data.sale_end_date.max() - timedelta(train_delta)\n",
    "VAL_SPLIT = data.sale_end_date.max() - timedelta(val_delta)"
   ]
  },
  {
   "cell_type": "code",
   "execution_count": 85,
   "id": "61aa3c9d",
   "metadata": {
    "execution": {
     "iopub.execute_input": "2022-12-30T16:21:30.707193Z",
     "iopub.status.busy": "2022-12-30T16:21:30.706803Z",
     "iopub.status.idle": "2022-12-30T16:21:30.731350Z",
     "shell.execute_reply": "2022-12-30T16:21:30.729738Z",
     "shell.execute_reply.started": "2022-12-30T16:21:30.707163Z"
    },
    "scrolled": true
   },
   "outputs": [
    {
     "name": "stdout",
     "output_type": "stream",
     "text": [
      "Train rows: 69809\n",
      "Min train date: 2022-06-11 00:00:00\n",
      "Max train date: 2023-01-06 00:00:00\n",
      "Val rows: 7173\n",
      "Min val date: 2023-01-07 00:00:00\n",
      "Max val date: 2023-01-26 00:00:00\n"
     ]
    }
   ],
   "source": [
    "train = data[data['sale_end_date'] <= TRAIN_SPLIT]\n",
    "val = data[(data['sale_end_date'] > TRAIN_SPLIT)]\n",
    "test = val[val['sale_end_date'] > VAL_SPLIT]\n",
    "val = val[val['sale_end_date'] <= VAL_SPLIT]\n",
    "\n",
    "print(f'Train rows: {train.shape[0]}')\n",
    "print(f'Min train date: {train.sale_end_date.min()}')\n",
    "print(f'Max train date: {train.sale_end_date.max()}')\n",
    "print(f'Val rows: {val.shape[0]}')\n",
    "print(f'Min val date: {val.sale_end_date.min()}')\n",
    "print(f'Max val date: {val.sale_end_date.max()}')"
   ]
  },
  {
   "cell_type": "markdown",
   "id": "ba4f6cb5",
   "metadata": {},
   "source": [
    "### Парсинг колонок"
   ]
  },
  {
   "cell_type": "code",
   "execution_count": 86,
   "id": "a2390d75",
   "metadata": {
    "execution": {
     "iopub.execute_input": "2022-12-30T16:32:57.533970Z",
     "iopub.status.busy": "2022-12-30T16:32:57.533497Z",
     "iopub.status.idle": "2022-12-30T16:32:57.603475Z",
     "shell.execute_reply": "2022-12-30T16:32:57.601875Z",
     "shell.execute_reply.started": "2022-12-30T16:32:57.533926Z"
    }
   },
   "outputs": [],
   "source": [
    "def horsepower(x):\n",
    "    bracket = x.find('(')\n",
    "    last = x.find(')')\n",
    "    return int(x[bracket + 1:last].split()[0])\n",
    "\n",
    "train['horsepower'] = train['modification'].apply(horsepower)\n",
    "val['horsepower'] = val['modification'].apply(horsepower)\n",
    "test['horsepower'] = test.modification.apply(horsepower)\n",
    "\n",
    "train['month'] = train.apply(lambda row:  int(row.sale_end_date.month), axis=1)\n",
    "val['month'] = val.apply(lambda row:  int(row.sale_end_date.month), axis=1)\n",
    "test['month'] = test.sale_end_date.dt.month.astype(int)\n",
    "\n",
    "train['sale_year'] = train.apply(lambda row:  int(row.sale_end_date.year), axis=1)\n",
    "val['sale_year'] = val.apply(lambda row:  int(row.sale_end_date.year), axis=1)\n",
    "test['sale_year'] = test.sale_end_date.dt.year.astype(int)"
   ]
  },
  {
   "cell_type": "markdown",
   "id": "1718d7ad",
   "metadata": {},
   "source": [
    "### Эмбеддинги для текста"
   ]
  },
  {
   "cell_type": "code",
   "execution_count": 13,
   "id": "091d016a",
   "metadata": {},
   "outputs": [],
   "source": [
    "mystem = Mystem() \n",
    "russian_stopwords = stopwords.words(\"russian\")\n",
    "\n",
    "def preprocess_text(text):\n",
    "    tokens = mystem.lemmatize(text.lower())\n",
    "    tokens = [token for token in tokens if token not in russian_stopwords\\\n",
    "              and token != \" \" \\\n",
    "              and token.strip() not in punctuation]\n",
    "    \n",
    "    text = \" \".join(tokens)\n",
    "    \n",
    "    return text"
   ]
  },
  {
   "cell_type": "code",
   "execution_count": 14,
   "id": "d8029992",
   "metadata": {},
   "outputs": [],
   "source": [
    "train['description'] = train.description.fillna('').apply(preprocess_text)\n",
    "val['description'] = val.description.fillna('').apply(preprocess_text)\n",
    "test['description'] = test.description.fillna('').apply(preprocess_text)"
   ]
  },
  {
   "cell_type": "code",
   "execution_count": 20,
   "id": "2cdadb01",
   "metadata": {
    "scrolled": true
   },
   "outputs": [],
   "source": [
    "w2v_corpus = users['description'].fillna('').sample(10000).apply(preprocess_text).str.split()"
   ]
  },
  {
   "cell_type": "code",
   "execution_count": 21,
   "id": "a37efcbf",
   "metadata": {},
   "outputs": [],
   "source": [
    "class LossLogger(CallbackAny2Vec):\n",
    "    \n",
    "    def __init__(self):\n",
    "        self.epoch = 0\n",
    "\n",
    "    def on_epoch_end(self, model):\n",
    "        loss = model.get_latest_training_loss()\n",
    "        if self.epoch == 0:\n",
    "            print('Loss after epoch {}: {}'.format(self.epoch, loss))\n",
    "        else:\n",
    "            print('Loss after epoch {}: {}'.format(self.epoch, loss - self.loss_previous_step))\n",
    "        self.epoch += 1\n",
    "        self.loss_previous_step = loss\n",
    "        \n",
    "\n",
    "class EpochLogger(CallbackAny2Vec):\n",
    "    def __init__(self):\n",
    "        self.epoch = 0\n",
    "\n",
    "    def on_epoch_end(self, model):\n",
    "        print(f'Epoch {self.epoch}')\n",
    "        self.epoch += 1"
   ]
  },
  {
   "cell_type": "code",
   "execution_count": 25,
   "id": "486a947b",
   "metadata": {},
   "outputs": [
    {
     "name": "stdout",
     "output_type": "stream",
     "text": [
      "Loss after epoch 0: 6024833.5\n",
      "Loss after epoch 1: 5198093.5\n",
      "Loss after epoch 2: 4526521.0\n",
      "Loss after epoch 3: 3298104.0\n",
      "Loss after epoch 4: 2547020.0\n",
      "Loss after epoch 5: 2860058.0\n"
     ]
    },
    {
     "data": {
      "text/plain": [
       "(2974690, 3583122)"
      ]
     },
     "execution_count": 25,
     "metadata": {},
     "output_type": "execute_result"
    }
   ],
   "source": [
    "w2v_model = Word2Vec(sg=1, min_count=10, window=3, negative=15, hs=1, vector_size=100)\n",
    "w2v_model.build_vocab(w2v_corpus)\n",
    "w2v_model.train(\n",
    "    w2v_corpus,\n",
    "    total_examples=w2v_model.corpus_count,\n",
    "    epochs=6,\n",
    "    compute_loss=True,\n",
    "    callbacks=[LossLogger()]\n",
    ")"
   ]
  },
  {
   "cell_type": "code",
   "execution_count": 43,
   "id": "ceebc273",
   "metadata": {},
   "outputs": [],
   "source": [
    "class Word2VecTransformer(BaseEstimator, TransformerMixin):\n",
    "    \n",
    "    def __init__(self, w2v_model, alpha=2):\n",
    "        \n",
    "        self.w2v_model = w2v_model\n",
    "        self.alpha = alpha\n",
    "        \n",
    "    def fit(self, X, y=None):\n",
    "        return self\n",
    "    \n",
    "    def transform(self, X, y=None):\n",
    "        \n",
    "        X_transformed = np.zeros((len(X), self.w2v_model.wv.vector_size))\n",
    "        for i, title in enumerate(X):\n",
    "            \n",
    "            title_vector = np.zeros((self.w2v_model.wv.vector_size,))\n",
    "            try:\n",
    "                tokens = title.split()\n",
    "            except BaseException:\n",
    "                continue\n",
    "            \n",
    "            counter = 1\n",
    "            \n",
    "            for token in tokens:\n",
    "                if token in self.w2v_model.wv.key_to_index:\n",
    "                    title_vector += self.w2v_model.wv.get_vector(token)\n",
    "                    counter += 1 \n",
    "                    \n",
    "            X_transformed[i] = title_vector / (self.alpha * counter)\n",
    "        \n",
    "        return X_transformed"
   ]
  },
  {
   "cell_type": "code",
   "execution_count": 87,
   "id": "8f9c714d",
   "metadata": {},
   "outputs": [],
   "source": [
    "desc2vec = Pipeline([\n",
    "    ('w2v', Word2VecTransformer(w2v_model=w2v_model)),\n",
    "    ('scale', StandardScaler()),\n",
    "    ('pca', PCA(25))\n",
    "])"
   ]
  },
  {
   "cell_type": "code",
   "execution_count": 46,
   "id": "0f79db93",
   "metadata": {},
   "outputs": [],
   "source": [
    "train_w2v = desc2vec.fit_transform(train['description'].values)\n",
    "val_w2v = desc2vec.transform(val['description'].values)\n",
    "test_w2v = desc2vec.transform(test['description'].values)"
   ]
  },
  {
   "cell_type": "code",
   "execution_count": 49,
   "id": "4591510d",
   "metadata": {},
   "outputs": [],
   "source": [
    "pca_cols = [f'pca_{i}' for i in range(1, 26)]\n",
    "\n",
    "train_w2v = pd.DataFrame(train_w2v, columns=pca_cols)\n",
    "val_w2v = pd.DataFrame(val_w2v, columns=pca_cols)\n",
    "test_w2v = pd.DataFrame(test_w2v, columns=pca_cols)"
   ]
  },
  {
   "cell_type": "code",
   "execution_count": 119,
   "id": "0cc72421",
   "metadata": {},
   "outputs": [],
   "source": [
    "CATEGORIES = [\n",
    "    'brand',\n",
    "    'model',\n",
    "    'generation',\n",
    "    'modification',\n",
    "    'color',\n",
    "    'body_type',\n",
    "    'equipment',\n",
    "    'owners_count',\n",
    "]\n",
    "\n",
    "NUMERIC = [\n",
    "    'horsepower',\n",
    "    'year',\n",
    "    'month',\n",
    "    'sale_year',\n",
    "    'mileage',\n",
    "    'latitude',\n",
    "    'longitude',\n",
    "    'crashes',\n",
    "    'is_taxi',\n",
    "    'is_carsharing'\n",
    "] \n",
    "NUMERIC = NUMERIC + pca_cols\n",
    "FEATURES = CATEGORIES + NUMERIC\n",
    "IS_COLUMNS = [col for col in CATEGORIES if col.startswith('is_')]\n",
    "NAN_COLS = ['pts', 'equipment', 'crashes'] + IS_COLUMNS"
   ]
  },
  {
   "cell_type": "code",
   "execution_count": 88,
   "id": "a79091cc",
   "metadata": {},
   "outputs": [],
   "source": [
    "mapper = {\n",
    "    'equipment': '', \n",
    "    'pts': '', \n",
    "    'is_taxi': -1, \n",
    "    'is_pledged': -1, \n",
    "    'is_restrictions': -1, \n",
    "    'is_carsharing': -1\n",
    "}\n",
    "train.fillna(mapper, inplace=True)\n",
    "val.fillna(mapper, inplace=True)\n",
    "test.fillna(mapper, inplace=True)"
   ]
  },
  {
   "cell_type": "code",
   "execution_count": null,
   "id": "b4f9feb2",
   "metadata": {},
   "outputs": [],
   "source": [
    "for col in IS_COLUMNS:\n",
    "    train[col] = train[col].astype(str)\n",
    "    val[col] = val[col].astype(str)\n",
    "    test[col] = test[col].astype(str)"
   ]
  },
  {
   "cell_type": "markdown",
   "id": "6f3fd2ff",
   "metadata": {},
   "source": [
    "### regression"
   ]
  },
  {
   "cell_type": "code",
   "execution_count": 89,
   "id": "1d146a56",
   "metadata": {
    "execution": {
     "iopub.execute_input": "2022-12-30T16:33:06.527640Z",
     "iopub.status.busy": "2022-12-30T16:33:06.527150Z",
     "iopub.status.idle": "2022-12-30T16:33:06.586290Z",
     "shell.execute_reply": "2022-12-30T16:33:06.585276Z",
     "shell.execute_reply.started": "2022-12-30T16:33:06.527600Z"
    }
   },
   "outputs": [],
   "source": [
    "X_train = pd.concat([train.reset_index(), train_w2v], axis=1)[FEATURES]\n",
    "X_val = pd.concat([val.reset_index(), val_w2v], axis=1)[FEATURES]\n",
    "X_test = pd.concat([test.reset_index(), test_w2v], axis=1)[FEATURES]\n",
    "\n",
    "y_train, y_val, y_test = (train['actual_price']), (val['actual_price']), test['actual_price']"
   ]
  },
  {
   "cell_type": "markdown",
   "id": "25b3808b",
   "metadata": {},
   "source": [
    "Обучим CatBoostRegressor."
   ]
  },
  {
   "cell_type": "code",
   "execution_count": 92,
   "id": "d77ca324",
   "metadata": {
    "execution": {
     "iopub.execute_input": "2022-12-30T13:38:30.132275Z",
     "iopub.status.busy": "2022-12-30T13:38:30.131819Z",
     "iopub.status.idle": "2022-12-30T13:38:30.137274Z",
     "shell.execute_reply": "2022-12-30T13:38:30.136347Z",
     "shell.execute_reply.started": "2022-12-30T13:38:30.132236Z"
    }
   },
   "outputs": [],
   "source": [
    "def mape(y_true, y_pred):\n",
    "    return ((y_pred - y_true) / y_true).abs().median()\n",
    "\n",
    "class MedianAPE:\n",
    "    def __init__(self, f=lambda x: x, inv_f=lambda x: x):\n",
    "        self.f = f\n",
    "        self.inv_f = inv_f\n",
    "\n",
    "\n",
    "    def get_final_error(self, error, weight=1.0):\n",
    "        return error\n",
    "\n",
    "    def is_max_optimal(self):\n",
    "        # the lower metric value the better\n",
    "        return False\n",
    "\n",
    "    def evaluate(self, approxes, target, weight=None):\n",
    "        assert len(approxes) == 1\n",
    "        assert len(target) == len(approxes[0])\n",
    "\n",
    "        approx = approxes[0]\n",
    "\n",
    "        preds = self.inv_f(np.array(approx))\n",
    "        target = self.inv_f(np.array(target))\n",
    "        error = np.median((np.abs(np.subtract(target, preds) / target))) * 100\n",
    "        return (error, 1.0)"
   ]
  },
  {
   "cell_type": "code",
   "execution_count": 94,
   "id": "df2b23da",
   "metadata": {
    "execution": {
     "iopub.execute_input": "2022-12-30T16:38:33.010433Z",
     "iopub.status.busy": "2022-12-30T16:38:33.009978Z",
     "iopub.status.idle": "2022-12-30T16:40:30.411726Z",
     "shell.execute_reply": "2022-12-30T16:40:30.410238Z",
     "shell.execute_reply.started": "2022-12-30T16:38:33.010397Z"
    }
   },
   "outputs": [
    {
     "data": {
      "application/vnd.jupyter.widget-view+json": {
       "model_id": "449fafac68e64d5b9ff47cf7c5ff6128",
       "version_major": 2,
       "version_minor": 0
      },
      "text/plain": [
       "MetricVisualizer(layout=Layout(align_self='stretch', height='500px'))"
      ]
     },
     "metadata": {},
     "output_type": "display_data"
    },
    {
     "name": "stdout",
     "output_type": "stream",
     "text": [
      "0:\tlearn: 42.1049137\ttest: 39.9216680\tbest: 39.9216680 (0)\ttotal: 49ms\tremaining: 3m 6s\n",
      "100:\tlearn: 9.4438203\ttest: 9.4769438\tbest: 9.4769438 (100)\ttotal: 3.61s\tremaining: 2m 12s\n",
      "200:\tlearn: 8.3300487\ttest: 8.5779632\tbest: 8.5779632 (200)\ttotal: 6.68s\tremaining: 1m 59s\n",
      "300:\tlearn: 7.5356883\ttest: 8.1073201\tbest: 8.0948519 (293)\ttotal: 9.67s\tremaining: 1m 52s\n",
      "400:\tlearn: 7.0222316\ttest: 7.6911276\tbest: 7.6884703 (395)\ttotal: 11.8s\tremaining: 1m 40s\n",
      "500:\tlearn: 6.6829411\ttest: 7.5414953\tbest: 7.5390816 (499)\ttotal: 14s\tremaining: 1m 31s\n",
      "600:\tlearn: 6.4276977\ttest: 7.4239942\tbest: 7.4239942 (600)\ttotal: 16.1s\tremaining: 1m 25s\n",
      "700:\tlearn: 6.2134051\ttest: 7.3229292\tbest: 7.3229292 (700)\ttotal: 18.2s\tremaining: 1m 20s\n",
      "800:\tlearn: 6.0507644\ttest: 7.3026702\tbest: 7.2860713 (791)\ttotal: 20.2s\tremaining: 1m 15s\n",
      "900:\tlearn: 5.9016083\ttest: 7.2467303\tbest: 7.2356188 (860)\ttotal: 22.3s\tremaining: 1m 11s\n",
      "1000:\tlearn: 5.7940925\ttest: 7.2029132\tbest: 7.1957744 (998)\ttotal: 24.4s\tremaining: 1m 8s\n",
      "1100:\tlearn: 5.6970287\ttest: 7.1999943\tbest: 7.1835224 (1094)\ttotal: 26.4s\tremaining: 1m 4s\n",
      "1200:\tlearn: 5.6065107\ttest: 7.1721046\tbest: 7.1673144 (1124)\ttotal: 28.4s\tremaining: 1m 1s\n",
      "1300:\tlearn: 5.5151298\ttest: 7.1848630\tbest: 7.1516215 (1269)\ttotal: 30.5s\tremaining: 58.6s\n",
      "1400:\tlearn: 5.4457877\ttest: 7.1329679\tbest: 7.1224168 (1389)\ttotal: 32.5s\tremaining: 55.7s\n",
      "1500:\tlearn: 5.3730537\ttest: 7.0866077\tbest: 7.0831077 (1496)\ttotal: 34.5s\tremaining: 52.9s\n",
      "1600:\tlearn: 5.3034622\ttest: 7.0857659\tbest: 7.0782635 (1593)\ttotal: 36.5s\tremaining: 50.2s\n",
      "1700:\tlearn: 5.2357886\ttest: 7.0971943\tbest: 7.0717192 (1673)\ttotal: 38.6s\tremaining: 47.6s\n",
      "1800:\tlearn: 5.1771430\ttest: 7.0554198\tbest: 7.0493027 (1799)\ttotal: 40.6s\tremaining: 45s\n",
      "Stopped by overfitting detector  (100 iterations wait)\n",
      "\n",
      "bestTest = 7.049302743\n",
      "bestIteration = 1799\n",
      "\n",
      "Shrink model to first 1800 iterations.\n"
     ]
    },
    {
     "data": {
      "text/plain": [
       "<catboost.core.CatBoostRegressor at 0x7f41e82999f0>"
      ]
     },
     "execution_count": 94,
     "metadata": {},
     "output_type": "execute_result"
    }
   ],
   "source": [
    "np.random.seed(10)\n",
    "\n",
    "params = dict(\n",
    "    learning_rate=0.05,\n",
    "    iterations=3800,\n",
    "    reg_lambda=0.0005,\n",
    "    colsample_bylevel=1.,\n",
    "    max_bin=80,\n",
    "    bagging_temperature=2,\n",
    "    loss_function='MAE',\n",
    "    use_best_model=True,\n",
    "    verbose=100,\n",
    "    grow_policy='Depthwise',\n",
    "    random_seed=42,\n",
    "    eval_metric=MedianAPE()\n",
    "    ignored_features=['is_taxi']\n",
    ")\n",
    "model = cb.CatBoostRegressor(\n",
    "    **params,\n",
    ")\n",
    "\n",
    "eval_set = cb.Pool(data=X_val, label=y_val, cat_features=CATEGORIES)\n",
    "model.fit(\n",
    "    X_train[FEATURES], \n",
    "    y_train, \n",
    "    cat_features=CATEGORIES, \n",
    "    eval_set=eval_set, \n",
    "    plot=True,\n",
    "    early_stopping_rounds=100,\n",
    ")\n",
    "\n"
   ]
  },
  {
   "cell_type": "markdown",
   "id": "7c7711a3",
   "metadata": {},
   "source": [
    "### val"
   ]
  },
  {
   "cell_type": "markdown",
   "id": "58f10664",
   "metadata": {},
   "source": [
    "Посмотрим на метрики качества обученной модели. Видим, что medianAPE = 0.077510, а медиана сдвига (bias) = -0.022562."
   ]
  },
  {
   "cell_type": "code",
   "execution_count": 95,
   "id": "df90c46f",
   "metadata": {},
   "outputs": [],
   "source": [
    "val['prediction'] = (model.predict(X_val))\n",
    "val['bias'] = (val['actual_price'] - (val['prediction'])) / val['actual_price']"
   ]
  },
  {
   "cell_type": "code",
   "execution_count": 96,
   "id": "bf61824a",
   "metadata": {},
   "outputs": [
    {
     "data": {
      "text/html": [
       "<div>\n",
       "<style scoped>\n",
       "    .dataframe tbody tr th:only-of-type {\n",
       "        vertical-align: middle;\n",
       "    }\n",
       "\n",
       "    .dataframe tbody tr th {\n",
       "        vertical-align: top;\n",
       "    }\n",
       "\n",
       "    .dataframe thead th {\n",
       "        text-align: right;\n",
       "    }\n",
       "</style>\n",
       "<table border=\"1\" class=\"dataframe\">\n",
       "  <thead>\n",
       "    <tr style=\"text-align: right;\">\n",
       "      <th></th>\n",
       "      <th>bias</th>\n",
       "      <th>MAPE</th>\n",
       "    </tr>\n",
       "  </thead>\n",
       "  <tbody>\n",
       "    <tr>\n",
       "      <th>count</th>\n",
       "      <td>7173.000000</td>\n",
       "      <td>7173.000000</td>\n",
       "    </tr>\n",
       "    <tr>\n",
       "      <th>mean</th>\n",
       "      <td>-0.017728</td>\n",
       "      <td>0.100056</td>\n",
       "    </tr>\n",
       "    <tr>\n",
       "      <th>std</th>\n",
       "      <td>0.181688</td>\n",
       "      <td>0.152684</td>\n",
       "    </tr>\n",
       "    <tr>\n",
       "      <th>min</th>\n",
       "      <td>-7.317289</td>\n",
       "      <td>0.000065</td>\n",
       "    </tr>\n",
       "    <tr>\n",
       "      <th>25%</th>\n",
       "      <td>-0.074223</td>\n",
       "      <td>0.033078</td>\n",
       "    </tr>\n",
       "    <tr>\n",
       "      <th>50%</th>\n",
       "      <td>0.003771</td>\n",
       "      <td>0.070493</td>\n",
       "    </tr>\n",
       "    <tr>\n",
       "      <th>75%</th>\n",
       "      <td>0.067813</td>\n",
       "      <td>0.126109</td>\n",
       "    </tr>\n",
       "    <tr>\n",
       "      <th>max</th>\n",
       "      <td>1.014900</td>\n",
       "      <td>7.317289</td>\n",
       "    </tr>\n",
       "  </tbody>\n",
       "</table>\n",
       "</div>"
      ],
      "text/plain": [
       "              bias         MAPE\n",
       "count  7173.000000  7173.000000\n",
       "mean     -0.017728     0.100056\n",
       "std       0.181688     0.152684\n",
       "min      -7.317289     0.000065\n",
       "25%      -0.074223     0.033078\n",
       "50%       0.003771     0.070493\n",
       "75%       0.067813     0.126109\n",
       "max       1.014900     7.317289"
      ]
     },
     "execution_count": 96,
     "metadata": {},
     "output_type": "execute_result"
    }
   ],
   "source": [
    "stats = pd.concat([\n",
    "    val.bias.describe(),\n",
    "    val.bias.abs().describe(),\n",
    "], axis=1)\n",
    "stats.columns = ['bias', 'MAPE']\n",
    "\n",
    "stats"
   ]
  },
  {
   "cell_type": "markdown",
   "id": "6ca13ee6",
   "metadata": {},
   "source": [
    "### test"
   ]
  },
  {
   "cell_type": "code",
   "execution_count": 97,
   "id": "9e00ccd9",
   "metadata": {},
   "outputs": [],
   "source": [
    "test['prediction'] = (model.predict(X_test))\n",
    "test['bias'] = (test['actual_price'] - (test['prediction'])) / test['actual_price']"
   ]
  },
  {
   "cell_type": "code",
   "execution_count": 98,
   "id": "78bf26d1",
   "metadata": {},
   "outputs": [
    {
     "data": {
      "text/html": [
       "<div>\n",
       "<style scoped>\n",
       "    .dataframe tbody tr th:only-of-type {\n",
       "        vertical-align: middle;\n",
       "    }\n",
       "\n",
       "    .dataframe tbody tr th {\n",
       "        vertical-align: top;\n",
       "    }\n",
       "\n",
       "    .dataframe thead th {\n",
       "        text-align: right;\n",
       "    }\n",
       "</style>\n",
       "<table border=\"1\" class=\"dataframe\">\n",
       "  <thead>\n",
       "    <tr style=\"text-align: right;\">\n",
       "      <th></th>\n",
       "      <th>bias</th>\n",
       "      <th>MAPE</th>\n",
       "    </tr>\n",
       "  </thead>\n",
       "  <tbody>\n",
       "    <tr>\n",
       "      <th>count</th>\n",
       "      <td>4444.000000</td>\n",
       "      <td>4444.000000</td>\n",
       "    </tr>\n",
       "    <tr>\n",
       "      <th>mean</th>\n",
       "      <td>-0.001518</td>\n",
       "      <td>0.098131</td>\n",
       "    </tr>\n",
       "    <tr>\n",
       "      <th>std</th>\n",
       "      <td>0.174067</td>\n",
       "      <td>0.143769</td>\n",
       "    </tr>\n",
       "    <tr>\n",
       "      <th>min</th>\n",
       "      <td>-6.351438</td>\n",
       "      <td>0.000014</td>\n",
       "    </tr>\n",
       "    <tr>\n",
       "      <th>25%</th>\n",
       "      <td>-0.060557</td>\n",
       "      <td>0.033957</td>\n",
       "    </tr>\n",
       "    <tr>\n",
       "      <th>50%</th>\n",
       "      <td>0.015289</td>\n",
       "      <td>0.072013</td>\n",
       "    </tr>\n",
       "    <tr>\n",
       "      <th>75%</th>\n",
       "      <td>0.080804</td>\n",
       "      <td>0.123535</td>\n",
       "    </tr>\n",
       "    <tr>\n",
       "      <th>max</th>\n",
       "      <td>0.634401</td>\n",
       "      <td>6.351438</td>\n",
       "    </tr>\n",
       "  </tbody>\n",
       "</table>\n",
       "</div>"
      ],
      "text/plain": [
       "              bias         MAPE\n",
       "count  4444.000000  4444.000000\n",
       "mean     -0.001518     0.098131\n",
       "std       0.174067     0.143769\n",
       "min      -6.351438     0.000014\n",
       "25%      -0.060557     0.033957\n",
       "50%       0.015289     0.072013\n",
       "75%       0.080804     0.123535\n",
       "max       0.634401     6.351438"
      ]
     },
     "execution_count": 98,
     "metadata": {},
     "output_type": "execute_result"
    }
   ],
   "source": [
    "stats = pd.concat([\n",
    "    test.bias.describe(),\n",
    "    test.bias.abs().describe(),\n",
    "], axis=1)\n",
    "stats.columns = ['bias', 'MAPE']\n",
    "\n",
    "stats"
   ]
  },
  {
   "cell_type": "code",
   "execution_count": null,
   "id": "04bbb9f0",
   "metadata": {},
   "outputs": [],
   "source": []
  },
  {
   "cell_type": "code",
   "execution_count": null,
   "id": "5c71ea01",
   "metadata": {},
   "outputs": [],
   "source": []
  }
 ],
 "metadata": {
  "kernelspec": {
   "display_name": "Python 3 (ipykernel)",
   "language": "python",
   "name": "python3"
  },
  "language_info": {
   "codemirror_mode": {
    "name": "ipython",
    "version": 3
   },
   "file_extension": ".py",
   "mimetype": "text/x-python",
   "name": "python",
   "nbconvert_exporter": "python",
   "pygments_lexer": "ipython3",
   "version": "3.10.2"
  }
 },
 "nbformat": 4,
 "nbformat_minor": 5
}
