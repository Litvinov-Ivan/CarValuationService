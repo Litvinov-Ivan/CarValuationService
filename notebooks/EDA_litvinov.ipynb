{
 "cells": [
  {
   "cell_type": "markdown",
   "id": "f948e3dc",
   "metadata": {},
   "source": [
    "# EDA данных"
   ]
  },
  {
   "cell_type": "code",
   "execution_count": 1,
   "id": "084ab653",
   "metadata": {},
   "outputs": [],
   "source": [
    "import pandas as pd\n",
    "import numpy as np\n",
    "import pyarrow.feather as ft\n",
    "import matplotlib.pyplot as plt\n",
    "import seaborn as sns\n",
    "import warnings\n",
    "import datetime\n",
    "\n",
    "warnings.simplefilter('ignore')"
   ]
  },
  {
   "cell_type": "markdown",
   "id": "9c8ebcb6",
   "metadata": {},
   "source": [
    "## Загрузим данные"
   ]
  },
  {
   "cell_type": "code",
   "execution_count": 2,
   "id": "b4cec4e7",
   "metadata": {},
   "outputs": [
    {
     "data": {
      "text/html": [
       "<div>\n",
       "<style scoped>\n",
       "    .dataframe tbody tr th:only-of-type {\n",
       "        vertical-align: middle;\n",
       "    }\n",
       "\n",
       "    .dataframe tbody tr th {\n",
       "        vertical-align: top;\n",
       "    }\n",
       "\n",
       "    .dataframe thead th {\n",
       "        text-align: right;\n",
       "    }\n",
       "</style>\n",
       "<table border=\"1\" class=\"dataframe\">\n",
       "  <thead>\n",
       "    <tr style=\"text-align: right;\">\n",
       "      <th></th>\n",
       "      <th>sale_end_date</th>\n",
       "      <th>brand</th>\n",
       "      <th>model</th>\n",
       "      <th>generation</th>\n",
       "      <th>modification</th>\n",
       "      <th>equipment</th>\n",
       "      <th>body_type</th>\n",
       "      <th>drive_type</th>\n",
       "      <th>transmission_type</th>\n",
       "      <th>engine_type</th>\n",
       "      <th>...</th>\n",
       "      <th>electroprivod_mult</th>\n",
       "      <th>fary_mult</th>\n",
       "      <th>multimedia_navigacia_mult</th>\n",
       "      <th>obogrev_mult</th>\n",
       "      <th>pamyat_nastroek_mult</th>\n",
       "      <th>podushki_bezopasnosti_mult</th>\n",
       "      <th>pomosh_pri_vozhdenii_mult</th>\n",
       "      <th>protivoygonnaya_sistema_mult</th>\n",
       "      <th>salon_mult</th>\n",
       "      <th>upravlenie_klimatom_mult</th>\n",
       "    </tr>\n",
       "  </thead>\n",
       "  <tbody>\n",
       "    <tr>\n",
       "      <th>0</th>\n",
       "      <td>2023-02-25</td>\n",
       "      <td>Volkswagen</td>\n",
       "      <td>Passat</td>\n",
       "      <td>B8 (2014—2020)</td>\n",
       "      <td>2.0 TDI DSG (150 л.с.)</td>\n",
       "      <td>None</td>\n",
       "      <td>Седан</td>\n",
       "      <td>Передний</td>\n",
       "      <td>Робот</td>\n",
       "      <td>Дизель</td>\n",
       "      <td>...</td>\n",
       "      <td>[13729,13731,13733]</td>\n",
       "      <td>None</td>\n",
       "      <td>[13768,13769,13770,13771,13772]</td>\n",
       "      <td>[13721,13722,13723,13725]</td>\n",
       "      <td>None</td>\n",
       "      <td>[13751,13754,13755]</td>\n",
       "      <td>[13739,13740,13741,13742,13744,13745,13746]</td>\n",
       "      <td>[13747,13748,13749]</td>\n",
       "      <td>[13719]</td>\n",
       "      <td>None</td>\n",
       "    </tr>\n",
       "    <tr>\n",
       "      <th>1</th>\n",
       "      <td>2023-02-19</td>\n",
       "      <td>Volkswagen</td>\n",
       "      <td>Passat</td>\n",
       "      <td>B8 (2014—2020)</td>\n",
       "      <td>2.0 TDI DSG (150 л.с.)</td>\n",
       "      <td>None</td>\n",
       "      <td>Седан</td>\n",
       "      <td>Передний</td>\n",
       "      <td>Робот</td>\n",
       "      <td>Дизель</td>\n",
       "      <td>...</td>\n",
       "      <td>[13729,13731]</td>\n",
       "      <td>[13783,13784]</td>\n",
       "      <td>[13765,13767,13768,13769,13771]</td>\n",
       "      <td>[13721,13723,13724,13725]</td>\n",
       "      <td>None</td>\n",
       "      <td>[13751,13753,13754]</td>\n",
       "      <td>[13739,13740,13741,13742,13745,13746]</td>\n",
       "      <td>[13747,13748,13749]</td>\n",
       "      <td>[13719]</td>\n",
       "      <td>None</td>\n",
       "    </tr>\n",
       "    <tr>\n",
       "      <th>2</th>\n",
       "      <td>2023-02-18</td>\n",
       "      <td>Volkswagen</td>\n",
       "      <td>Passat</td>\n",
       "      <td>B8 (2014—2020)</td>\n",
       "      <td>2.0 TDI DSG (150 л.с.)</td>\n",
       "      <td>None</td>\n",
       "      <td>Универсал</td>\n",
       "      <td>Передний</td>\n",
       "      <td>Робот</td>\n",
       "      <td>Дизель</td>\n",
       "      <td>...</td>\n",
       "      <td>None</td>\n",
       "      <td>None</td>\n",
       "      <td>None</td>\n",
       "      <td>None</td>\n",
       "      <td>None</td>\n",
       "      <td>None</td>\n",
       "      <td>None</td>\n",
       "      <td>None</td>\n",
       "      <td>None</td>\n",
       "      <td>None</td>\n",
       "    </tr>\n",
       "  </tbody>\n",
       "</table>\n",
       "<p>3 rows × 66 columns</p>\n",
       "</div>"
      ],
      "text/plain": [
       "  sale_end_date       brand   model      generation            modification  \\\n",
       "0    2023-02-25  Volkswagen  Passat  B8 (2014—2020)  2.0 TDI DSG (150 л.с.)   \n",
       "1    2023-02-19  Volkswagen  Passat  B8 (2014—2020)  2.0 TDI DSG (150 л.с.)   \n",
       "2    2023-02-18  Volkswagen  Passat  B8 (2014—2020)  2.0 TDI DSG (150 л.с.)   \n",
       "\n",
       "  equipment  body_type drive_type transmission_type engine_type  ...  \\\n",
       "0      None      Седан   Передний             Робот      Дизель  ...   \n",
       "1      None      Седан   Передний             Робот      Дизель  ...   \n",
       "2      None  Универсал   Передний             Робот      Дизель  ...   \n",
       "\n",
       "    electroprivod_mult      fary_mult        multimedia_navigacia_mult  \\\n",
       "0  [13729,13731,13733]           None  [13768,13769,13770,13771,13772]   \n",
       "1        [13729,13731]  [13783,13784]  [13765,13767,13768,13769,13771]   \n",
       "2                 None           None                             None   \n",
       "\n",
       "                obogrev_mult  pamyat_nastroek_mult podushki_bezopasnosti_mult  \\\n",
       "0  [13721,13722,13723,13725]                  None        [13751,13754,13755]   \n",
       "1  [13721,13723,13724,13725]                  None        [13751,13753,13754]   \n",
       "2                       None                  None                       None   \n",
       "\n",
       "                     pomosh_pri_vozhdenii_mult  protivoygonnaya_sistema_mult  \\\n",
       "0  [13739,13740,13741,13742,13744,13745,13746]           [13747,13748,13749]   \n",
       "1        [13739,13740,13741,13742,13745,13746]           [13747,13748,13749]   \n",
       "2                                         None                          None   \n",
       "\n",
       "   salon_mult  upravlenie_klimatom_mult  \n",
       "0     [13719]                      None  \n",
       "1     [13719]                      None  \n",
       "2        None                      None  \n",
       "\n",
       "[3 rows x 66 columns]"
      ]
     },
     "execution_count": 2,
     "metadata": {},
     "output_type": "execute_result"
    }
   ],
   "source": [
    "df_test = ft.read_feather('project_data_imv_auto/project_test_public.f')\n",
    "df_test.head(3)"
   ]
  },
  {
   "cell_type": "code",
   "execution_count": 3,
   "id": "fdba34bb",
   "metadata": {},
   "outputs": [
    {
     "data": {
      "text/html": [
       "<div>\n",
       "<style scoped>\n",
       "    .dataframe tbody tr th:only-of-type {\n",
       "        vertical-align: middle;\n",
       "    }\n",
       "\n",
       "    .dataframe tbody tr th {\n",
       "        vertical-align: top;\n",
       "    }\n",
       "\n",
       "    .dataframe thead th {\n",
       "        text-align: right;\n",
       "    }\n",
       "</style>\n",
       "<table border=\"1\" class=\"dataframe\">\n",
       "  <thead>\n",
       "    <tr style=\"text-align: right;\">\n",
       "      <th></th>\n",
       "      <th>actual_price</th>\n",
       "      <th>price</th>\n",
       "      <th>start_date</th>\n",
       "      <th>close_date</th>\n",
       "      <th>sale_end_date</th>\n",
       "      <th>brand</th>\n",
       "      <th>model</th>\n",
       "      <th>generation</th>\n",
       "      <th>modification</th>\n",
       "      <th>equipment</th>\n",
       "      <th>...</th>\n",
       "      <th>electroprivod_mult</th>\n",
       "      <th>fary_mult</th>\n",
       "      <th>multimedia_navigacia_mult</th>\n",
       "      <th>obogrev_mult</th>\n",
       "      <th>pamyat_nastroek_mult</th>\n",
       "      <th>podushki_bezopasnosti_mult</th>\n",
       "      <th>pomosh_pri_vozhdenii_mult</th>\n",
       "      <th>protivoygonnaya_sistema_mult</th>\n",
       "      <th>salon_mult</th>\n",
       "      <th>upravlenie_klimatom_mult</th>\n",
       "    </tr>\n",
       "  </thead>\n",
       "  <tbody>\n",
       "    <tr>\n",
       "      <th>0</th>\n",
       "      <td>NaN</td>\n",
       "      <td>1950000.000000000000000</td>\n",
       "      <td>2023-02-18 13:37:49.603445</td>\n",
       "      <td>2023-02-19 15:06:28.603039</td>\n",
       "      <td>NaT</td>\n",
       "      <td>Volkswagen</td>\n",
       "      <td>Passat</td>\n",
       "      <td>B8 (2014—2020)</td>\n",
       "      <td>2.0 TDI DSG (150 л.с.)</td>\n",
       "      <td>Highline</td>\n",
       "      <td>...</td>\n",
       "      <td>[13729]</td>\n",
       "      <td>[13783,13784]</td>\n",
       "      <td>[13763,13764,13765,13766,13767,13768,13769,137...</td>\n",
       "      <td>[13721,13722,13723,13724]</td>\n",
       "      <td>None</td>\n",
       "      <td>[13751,13752,13753,13754,13755]</td>\n",
       "      <td>[13739,13740,13741,13742,13744,13745,13746]</td>\n",
       "      <td>[13747,13748,13749]</td>\n",
       "      <td>[13719]</td>\n",
       "      <td>[13713]</td>\n",
       "    </tr>\n",
       "    <tr>\n",
       "      <th>1</th>\n",
       "      <td>NaN</td>\n",
       "      <td>1999000.000000000000000</td>\n",
       "      <td>2023-02-11 19:49:43.158681</td>\n",
       "      <td>2023-02-24 11:04:43.685727</td>\n",
       "      <td>NaT</td>\n",
       "      <td>Volkswagen</td>\n",
       "      <td>Passat</td>\n",
       "      <td>B8 (2014—2020)</td>\n",
       "      <td>2.0 TDI DSG (150 л.с.)</td>\n",
       "      <td>Highline</td>\n",
       "      <td>...</td>\n",
       "      <td>[13729,13733]</td>\n",
       "      <td>[13783,13784,13785]</td>\n",
       "      <td>[13763,13764,13765,13767,13768,13769,13770,137...</td>\n",
       "      <td>[13721,13723,13724]</td>\n",
       "      <td>None</td>\n",
       "      <td>[13751,13753,13754,13755]</td>\n",
       "      <td>[13739,13740,13741,13742,13744,13745,13746]</td>\n",
       "      <td>[13748,13749]</td>\n",
       "      <td>[13719]</td>\n",
       "      <td>[13712,13713]</td>\n",
       "    </tr>\n",
       "    <tr>\n",
       "      <th>2</th>\n",
       "      <td>NaN</td>\n",
       "      <td>1780000.000000000000000</td>\n",
       "      <td>2023-02-04 14:39:08.813905</td>\n",
       "      <td>2023-02-24 20:48:25.210683</td>\n",
       "      <td>NaT</td>\n",
       "      <td>Volkswagen</td>\n",
       "      <td>Passat</td>\n",
       "      <td>B8 (2014—2020)</td>\n",
       "      <td>2.0 TDI DSG (150 л.с.)</td>\n",
       "      <td>None</td>\n",
       "      <td>...</td>\n",
       "      <td>[13729,13731,13733]</td>\n",
       "      <td>[13783]</td>\n",
       "      <td>[13768,13772]</td>\n",
       "      <td>None</td>\n",
       "      <td>None</td>\n",
       "      <td>[13751,13752,13753,13754]</td>\n",
       "      <td>[13740,13741,13742,13744,13745,13746]</td>\n",
       "      <td>[13749]</td>\n",
       "      <td>None</td>\n",
       "      <td>None</td>\n",
       "    </tr>\n",
       "  </tbody>\n",
       "</table>\n",
       "<p>3 rows × 70 columns</p>\n",
       "</div>"
      ],
      "text/plain": [
       "   actual_price                    price                 start_date  \\\n",
       "0           NaN  1950000.000000000000000 2023-02-18 13:37:49.603445   \n",
       "1           NaN  1999000.000000000000000 2023-02-11 19:49:43.158681   \n",
       "2           NaN  1780000.000000000000000 2023-02-04 14:39:08.813905   \n",
       "\n",
       "                  close_date sale_end_date       brand   model  \\\n",
       "0 2023-02-19 15:06:28.603039           NaT  Volkswagen  Passat   \n",
       "1 2023-02-24 11:04:43.685727           NaT  Volkswagen  Passat   \n",
       "2 2023-02-24 20:48:25.210683           NaT  Volkswagen  Passat   \n",
       "\n",
       "       generation            modification equipment  ...   electroprivod_mult  \\\n",
       "0  B8 (2014—2020)  2.0 TDI DSG (150 л.с.)  Highline  ...              [13729]   \n",
       "1  B8 (2014—2020)  2.0 TDI DSG (150 л.с.)  Highline  ...        [13729,13733]   \n",
       "2  B8 (2014—2020)  2.0 TDI DSG (150 л.с.)      None  ...  [13729,13731,13733]   \n",
       "\n",
       "             fary_mult                          multimedia_navigacia_mult  \\\n",
       "0        [13783,13784]  [13763,13764,13765,13766,13767,13768,13769,137...   \n",
       "1  [13783,13784,13785]  [13763,13764,13765,13767,13768,13769,13770,137...   \n",
       "2              [13783]                                      [13768,13772]   \n",
       "\n",
       "                obogrev_mult  pamyat_nastroek_mult  \\\n",
       "0  [13721,13722,13723,13724]                  None   \n",
       "1        [13721,13723,13724]                  None   \n",
       "2                       None                  None   \n",
       "\n",
       "        podushki_bezopasnosti_mult  \\\n",
       "0  [13751,13752,13753,13754,13755]   \n",
       "1        [13751,13753,13754,13755]   \n",
       "2        [13751,13752,13753,13754]   \n",
       "\n",
       "                     pomosh_pri_vozhdenii_mult  protivoygonnaya_sistema_mult  \\\n",
       "0  [13739,13740,13741,13742,13744,13745,13746]           [13747,13748,13749]   \n",
       "1  [13739,13740,13741,13742,13744,13745,13746]                 [13748,13749]   \n",
       "2        [13740,13741,13742,13744,13745,13746]                       [13749]   \n",
       "\n",
       "   salon_mult upravlenie_klimatom_mult  \n",
       "0     [13719]                  [13713]  \n",
       "1     [13719]            [13712,13713]  \n",
       "2        None                     None  \n",
       "\n",
       "[3 rows x 70 columns]"
      ]
     },
     "execution_count": 3,
     "metadata": {},
     "output_type": "execute_result"
    }
   ],
   "source": [
    "df_train = ft.read_feather('project_data_imv_auto/project_train.f')\n",
    "df_train.head(3)"
   ]
  },
  {
   "cell_type": "code",
   "execution_count": 4,
   "id": "d9bd8ca5",
   "metadata": {
    "scrolled": true
   },
   "outputs": [
    {
     "data": {
      "text/plain": [
       "Index(['actual_price', 'price', 'start_date', 'close_date', 'sale_end_date',\n",
       "       'brand', 'model', 'generation', 'modification', 'equipment',\n",
       "       'body_type', 'drive_type', 'transmission_type', 'engine_type',\n",
       "       'doors_number', 'color', 'pts', 'year', 'mileage', 'owners_count',\n",
       "       'steering_wheel', 'latitude', 'longitude', 'crashes', 'is_taxi',\n",
       "       'is_pledged', 'is_restrictions', 'is_carsharing', 'description',\n",
       "       'Передняя левая фара', 'Передняя правая фара', 'Правое зеркало',\n",
       "       'Левое зеркало', 'Капот', 'Заднее правое крыло', 'Заднее левое крыло',\n",
       "       'Передняя левая дверь', 'Крыша', 'Переднее правое крыло',\n",
       "       'Заднее стекло', 'Задний бампер', 'Передняя правая дверь',\n",
       "       'Задняя правая фара', 'Дверь багажника', 'Переднее левое крыло',\n",
       "       'Лобовое стекло', 'Задняя правая дверь', 'Передний бампер',\n",
       "       'Задняя левая фара', 'Задняя левая дверь', 'audiosistema', 'diski',\n",
       "       'electropodemniki', 'fary', 'salon', 'upravlenie_klimatom',\n",
       "       'usilitel_rul', 'aktivnaya_bezopasnost_mult', 'audiosistema_mult',\n",
       "       'shini_i_diski_mult', 'electroprivod_mult', 'fary_mult',\n",
       "       'multimedia_navigacia_mult', 'obogrev_mult', 'pamyat_nastroek_mult',\n",
       "       'podushki_bezopasnosti_mult', 'pomosh_pri_vozhdenii_mult',\n",
       "       'protivoygonnaya_sistema_mult', 'salon_mult',\n",
       "       'upravlenie_klimatom_mult'],\n",
       "      dtype='object')"
      ]
     },
     "execution_count": 4,
     "metadata": {},
     "output_type": "execute_result"
    }
   ],
   "source": [
    "df_train.columns"
   ]
  },
  {
   "cell_type": "code",
   "execution_count": 5,
   "id": "f0571e84",
   "metadata": {},
   "outputs": [
    {
     "data": {
      "text/plain": [
       "Index(['sale_end_date', 'brand', 'model', 'generation', 'modification',\n",
       "       'equipment', 'body_type', 'drive_type', 'transmission_type',\n",
       "       'engine_type', 'doors_number', 'color', 'pts', 'year', 'mileage',\n",
       "       'owners_count', 'steering_wheel', 'latitude', 'longitude', 'crashes',\n",
       "       'is_taxi', 'is_pledged', 'is_restrictions', 'is_carsharing',\n",
       "       'description', 'Передняя левая фара', 'Передняя правая фара',\n",
       "       'Правое зеркало', 'Левое зеркало', 'Капот', 'Заднее правое крыло',\n",
       "       'Заднее левое крыло', 'Передняя левая дверь', 'Крыша',\n",
       "       'Переднее правое крыло', 'Заднее стекло', 'Задний бампер',\n",
       "       'Передняя правая дверь', 'Задняя правая фара', 'Дверь багажника',\n",
       "       'Переднее левое крыло', 'Лобовое стекло', 'Задняя правая дверь',\n",
       "       'Передний бампер', 'Задняя левая фара', 'Задняя левая дверь',\n",
       "       'audiosistema', 'diski', 'electropodemniki', 'fary', 'salon',\n",
       "       'upravlenie_klimatom', 'usilitel_rul', 'aktivnaya_bezopasnost_mult',\n",
       "       'audiosistema_mult', 'shini_i_diski_mult', 'electroprivod_mult',\n",
       "       'fary_mult', 'multimedia_navigacia_mult', 'obogrev_mult',\n",
       "       'pamyat_nastroek_mult', 'podushki_bezopasnosti_mult',\n",
       "       'pomosh_pri_vozhdenii_mult', 'protivoygonnaya_sistema_mult',\n",
       "       'salon_mult', 'upravlenie_klimatom_mult'],\n",
       "      dtype='object')"
      ]
     },
     "execution_count": 5,
     "metadata": {},
     "output_type": "execute_result"
    }
   ],
   "source": [
    "df_test.columns"
   ]
  },
  {
   "cell_type": "code",
   "execution_count": 6,
   "id": "2e9b5e22",
   "metadata": {},
   "outputs": [
    {
     "data": {
      "text/plain": [
       "{'actual_price', 'close_date', 'price', 'start_date'}"
      ]
     },
     "execution_count": 6,
     "metadata": {},
     "output_type": "execute_result"
    }
   ],
   "source": [
    "# тест и трейн по составу колонок отличаются следующим образом:\n",
    "set(df_train.columns).difference(set(df_test.columns))"
   ]
  },
  {
   "cell_type": "code",
   "execution_count": 7,
   "id": "0e7d84bb",
   "metadata": {},
   "outputs": [
    {
     "data": {
      "text/html": [
       "<div>\n",
       "<style scoped>\n",
       "    .dataframe tbody tr th:only-of-type {\n",
       "        vertical-align: middle;\n",
       "    }\n",
       "\n",
       "    .dataframe tbody tr th {\n",
       "        vertical-align: top;\n",
       "    }\n",
       "\n",
       "    .dataframe thead th {\n",
       "        text-align: right;\n",
       "    }\n",
       "</style>\n",
       "<table border=\"1\" class=\"dataframe\">\n",
       "  <thead>\n",
       "    <tr style=\"text-align: right;\">\n",
       "      <th></th>\n",
       "      <th>id</th>\n",
       "      <th>viewItemLabel</th>\n",
       "    </tr>\n",
       "  </thead>\n",
       "  <tbody>\n",
       "    <tr>\n",
       "      <th>0</th>\n",
       "      <td>13705</td>\n",
       "      <td>Гидравлический</td>\n",
       "    </tr>\n",
       "    <tr>\n",
       "      <th>1</th>\n",
       "      <td>13706</td>\n",
       "      <td>Электрогидравлический</td>\n",
       "    </tr>\n",
       "    <tr>\n",
       "      <th>2</th>\n",
       "      <td>13707</td>\n",
       "      <td>Электрический</td>\n",
       "    </tr>\n",
       "  </tbody>\n",
       "</table>\n",
       "</div>"
      ],
      "text/plain": [
       "      id          viewItemLabel\n",
       "0  13705         Гидравлический\n",
       "1  13706  Электрогидравлический\n",
       "2  13707          Электрический"
      ]
     },
     "execution_count": 7,
     "metadata": {},
     "output_type": "execute_result"
    }
   ],
   "source": [
    "options = pd.read_csv('project_data_imv_auto/option_names.csv')\n",
    "options.head(3)"
   ]
  },
  {
   "cell_type": "code",
   "execution_count": 8,
   "id": "c2943977",
   "metadata": {},
   "outputs": [],
   "source": [
    "df_train['price'] = df_train['price'].astype(float)"
   ]
  },
  {
   "cell_type": "markdown",
   "id": "f466bcdd",
   "metadata": {},
   "source": [
    "### Generation"
   ]
  },
  {
   "cell_type": "code",
   "execution_count": 9,
   "id": "1db0e4b4",
   "metadata": {},
   "outputs": [
    {
     "data": {
      "text/plain": [
       "count                      1424484\n",
       "unique                        1183\n",
       "top       I рестайлинг (2003—2010)\n",
       "freq                         17318\n",
       "Name: generation, dtype: object"
      ]
     },
     "execution_count": 9,
     "metadata": {},
     "output_type": "execute_result"
    }
   ],
   "source": [
    "df_train['generation'].describe()"
   ]
  },
  {
   "cell_type": "code",
   "execution_count": 10,
   "id": "d7d900b4",
   "metadata": {},
   "outputs": [
    {
     "data": {
      "text/plain": [
       "array(['B8 (2014—2020)', 'I рестайлинг (2020—2023)',\n",
       "       'W164 рестайлинг (2008—2011)', ..., 'X253 рестайлинг (2019—2023)',\n",
       "       'W11 (1998—2005)', 'M10 (1995—2001)'], dtype=object)"
      ]
     },
     "execution_count": 10,
     "metadata": {},
     "output_type": "execute_result"
    }
   ],
   "source": [
    "df_train['generation'].unique()"
   ]
  },
  {
   "cell_type": "code",
   "execution_count": 11,
   "id": "06e22b40",
   "metadata": {},
   "outputs": [
    {
     "data": {
      "text/plain": [
       "2    964422\n",
       "3    427204\n",
       "4     32858\n",
       "Name: generation, dtype: int64"
      ]
     },
     "execution_count": 11,
     "metadata": {},
     "output_type": "execute_result"
    }
   ],
   "source": [
    "df_train['generation'].str.split().apply(len).value_counts()"
   ]
  },
  {
   "cell_type": "markdown",
   "id": "e6aa8196",
   "metadata": {},
   "source": [
    "В основном колонка заполнена данными вида \"кодировка поколения\" + \"годы\", но в трети объявлений так же содержится информация о рестайлинге и поколении рестайлинга:"
   ]
  },
  {
   "cell_type": "code",
   "execution_count": 12,
   "id": "ad4c8956",
   "metadata": {},
   "outputs": [
    {
     "data": {
      "text/plain": [
       "array(['J200 рестайлинг 2 (2015—2023)', '200 рестайлинг 2 (2015—2023)',\n",
       "       'III рестайлинг 3 (2018—2023)', '150 рестайлинг 2 (2017—2023)',\n",
       "       'GJ рестайлинг 2 (2018—2023)', 'I рестайлинг 2 (2014—2016)',\n",
       "       'II рестайлинг 2 (2013—2016)', 'II рестайлинг 2 (2012—2014)',\n",
       "       'Z51 рестайлинг 2 (2011—2015)',\n",
       "       'GD/GC/GG рестайлинг 2 (2005—2007)', 'I рестайлинг 2 (2006—2008)',\n",
       "       'II рестайлинг 2 (2012—2015)', '100 рестайлинг 2 (2005—2007)',\n",
       "       'III рестайлинг 2 (2015—2018)', 'I рестайлинг 2 (2013—2016)',\n",
       "       'III рестайлинг 2 (2012—2018)', 'F20/F21 рестайлинг 2 (2017—2019)',\n",
       "       'V рестайлинг 2 (2017—2019)', 'I рестайлинг 3 (2016—2023)',\n",
       "       'I рестайлинг 2 (2016—2023)', '8P рестайлинг 2 (2008—2013)',\n",
       "       'GD рестайлинг 2 (2005—2007)', 'I рестайлинг 2 (2008—2010)',\n",
       "       'I рестайлинг 2 (2003—2010)', 'II рестайлинг 2 (2018—2023)',\n",
       "       'D рестайлинг 2 (2011—2014)', 'II рестайлинг 2 (2003—2013)',\n",
       "       'W463 рестайлинг 2 (2012—2015)', 'III рестайлинг 2 (2013—2016)',\n",
       "       'III рестайлинг 2 (2009—2012)', 'I рестайлинг 2 (2003—2007)',\n",
       "       'J150 рестайлинг 2 (2019—2023)', 'SJ рестайлинг 2 (2016—2018)',\n",
       "       'I рестайлинг 2 (2017—2023)', 'IV рестайлинг 2 (2014—2023)',\n",
       "       'I рестайлинг 2 (2019—2023)', 'I рестайлинг 2 (2018—2023)'],\n",
       "      dtype=object)"
      ]
     },
     "execution_count": 12,
     "metadata": {},
     "output_type": "execute_result"
    }
   ],
   "source": [
    "df_train[df_train['generation'].str.split().apply(len) == 4]['generation'].unique()"
   ]
  },
  {
   "cell_type": "markdown",
   "id": "f71b271b",
   "metadata": {},
   "source": [
    "Попробуем разнести информацию по разным колонкам и посмотрим на их связь с таргетом."
   ]
  },
  {
   "cell_type": "code",
   "execution_count": 13,
   "id": "54d4d5b6",
   "metadata": {},
   "outputs": [],
   "source": [
    "# Оставим в колонке generation только кодировку поколения.\n",
    "# Информацию о рестайлинге вынесем в колонку restyling. При этом поколение без рестайлинга будем кодировать как 0, \n",
    "# рестайлинг первого поколения как 1, второго поколения рестайлинга как 2 и тд.\n",
    "# Наконец вынесем годы в колонку generation_years\n",
    "def restyling_extract(gen_list: list) -> int:\n",
    "    \"\"\"\n",
    "    Выделяем поколение рестайлинга из списка слов колонки generation\n",
    "    \"\"\"\n",
    "    if len(gen_list) == 4:\n",
    "        return int(gen_list[-2])\n",
    "    elif len(gen_list) == 3:\n",
    "        return 1\n",
    "    return 0\n",
    "\n",
    "generation = df_train['generation'].str.split()\n",
    "df_train['generation_old'] = df_train['generation']\n",
    "df_train['generation'] = generation.apply(lambda x: x[0])\n",
    "df_train['generation_years'] = generation.apply(lambda x: x[-1])\n",
    "df_train['restyling'] = generation.apply(lambda x: restyling_extract(x))"
   ]
  },
  {
   "cell_type": "code",
   "execution_count": 23,
   "id": "7c81afbe",
   "metadata": {},
   "outputs": [
    {
     "data": {
      "text/plain": [
       "<seaborn.axisgrid.FacetGrid at 0x220ff594df0>"
      ]
     },
     "execution_count": 23,
     "metadata": {},
     "output_type": "execute_result"
    },
    {
     "data": {
      "image/png": "[encoded data removed]",
      "text/plain": [
       "<Figure size 864x432 with 1 Axes>"
      ]
     },
     "metadata": {},
     "output_type": "display_data"
    }
   ],
   "source": [
    "fig = sns.catplot(data=df_train[['restyling', 'price']], x=\"restyling\", y=\"price\", kind=\"box\", height=6, aspect=2)\n",
    "fig.set(ylim=(0, 1.5e7))"
   ]
  },
  {
   "cell_type": "code",
   "execution_count": 15,
   "id": "c68e4a00",
   "metadata": {},
   "outputs": [
    {
     "data": {
      "text/plain": [
       "(334, 333)"
      ]
     },
     "execution_count": 15,
     "metadata": {},
     "output_type": "execute_result"
    }
   ],
   "source": [
    "df_train['generation'].nunique(), df_train['generation_years'].nunique()"
   ]
  },
  {
   "cell_type": "markdown",
   "id": "40c3f5ad",
   "metadata": {},
   "source": [
    "#### summary\n",
    "Выделив дополнительные данные из колонки generation нам удалось несколько уменьшить количество категорий - возможно это поможет в дальнейшем при обучении модели. При этом как видим количество уникальных значений generation и generation_years практически идентично - возможно это связано с тем, что годы выпуска каждого поколения фактически определяют и само поколение. В последующем необходимо будет проверить это."
   ]
  },
  {
   "cell_type": "markdown",
   "id": "1d22d8dd",
   "metadata": {},
   "source": [
    "### Modification"
   ]
  },
  {
   "cell_type": "code",
   "execution_count": 24,
   "id": "9907c109",
   "metadata": {},
   "outputs": [
    {
     "data": {
      "text/plain": [
       "count               1424484\n",
       "unique                 1795\n",
       "top       2.0 AT (150 л.с.)\n",
       "freq                  35232\n",
       "Name: modification, dtype: object"
      ]
     },
     "execution_count": 24,
     "metadata": {},
     "output_type": "execute_result"
    }
   ],
   "source": [
    "df_train['modification'].describe()"
   ]
  },
  {
   "cell_type": "code",
   "execution_count": 25,
   "id": "760466ef",
   "metadata": {},
   "outputs": [
    {
     "data": {
      "text/plain": [
       "array(['2.0 TDI DSG (150 л.с.)', '1.3 TCe 4WD CVT (150 л.с.)',\n",
       "       'ML 320d 3.0 4MATIC 7G-Tronic (211 л.с.)', ...,\n",
       "       'GL 450 4.7 4MATIC 7G-Tronic (340 л.с.)', '0.6 MT (29 л.с.)',\n",
       "       '1.6 TDI MT (75 л.с.)'], dtype=object)"
      ]
     },
     "execution_count": 25,
     "metadata": {},
     "output_type": "execute_result"
    }
   ],
   "source": [
    "df_train['modification'].unique()"
   ]
  },
  {
   "cell_type": "code",
   "execution_count": 26,
   "id": "78de907f",
   "metadata": {},
   "outputs": [],
   "source": [
    "# Выделим из данной колонки объем двигателя, заполним образующиеся nan'ы данными из гугла\n",
    "\n",
    "df_train['engine_volume'] = df_train.modification.str.extract(r'(?P<engine_volume>\\d\\.\\d)')\n",
    "df_train.loc[df_train['modification'] == 'FX30d 4WD AT (238 л.с.)', 'engine_volume'] = '3.0'\n",
    "df_train.loc[df_train['modification'] == 'P85', 'engine_volume'] = '0.0'"
   ]
  },
  {
   "cell_type": "code",
   "execution_count": 27,
   "id": "7312789a",
   "metadata": {},
   "outputs": [
    {
     "data": {
      "text/plain": [
       "count     1424484\n",
       "unique         49\n",
       "top           1.6\n",
       "freq       304770\n",
       "Name: engine_volume, dtype: object"
      ]
     },
     "execution_count": 27,
     "metadata": {},
     "output_type": "execute_result"
    }
   ],
   "source": [
    "df_train['engine_volume'].describe()"
   ]
  },
  {
   "cell_type": "code",
   "execution_count": 39,
   "id": "c7c04288",
   "metadata": {
    "scrolled": false
   },
   "outputs": [
    {
     "data": {
      "text/plain": [
       "<AxesSubplot:xlabel='engine_volume', ylabel='Count'>"
      ]
     },
     "execution_count": 39,
     "metadata": {},
     "output_type": "execute_result"
    },
    {
     "data": {
      "image/png": "[encoded data removed]",
      "text/plain": [
       "<Figure size 1440x720 with 1 Axes>"
      ]
     },
     "metadata": {},
     "output_type": "display_data"
    }
   ],
   "source": [
    "sns.histplot(data=df_train['engine_volume'].astype(float), binwidth=0.1)"
   ]
  },
  {
   "cell_type": "code",
   "execution_count": 37,
   "id": "03014e54",
   "metadata": {},
   "outputs": [],
   "source": [
    "# Выделим из данной колонки количество лошадиных сил, заполним образующиеся nan'ы данными из гугла\n",
    "\n",
    "df_train['horse_power'] = df_train.modification.str.extract(r'(?P<horse_power>\\(.*\\))')\n",
    "df_train['horse_power'] = df_train['horse_power'].str.strip('( л.с.)')\n",
    "df_train['horse_power'] = df_train['horse_power'].fillna('382')\n",
    "df_train['horse_power'] = df_train['horse_power'].astype(int)"
   ]
  },
  {
   "cell_type": "code",
   "execution_count": 38,
   "id": "cc426cd1",
   "metadata": {},
   "outputs": [
    {
     "data": {
      "text/plain": [
       "<AxesSubplot:>"
      ]
     },
     "execution_count": 38,
     "metadata": {},
     "output_type": "execute_result"
    },
    {
     "data": {
      "image/png": "[encoded data removed]",
      "text/plain": [
       "<Figure size 1440x720 with 1 Axes>"
      ]
     },
     "metadata": {},
     "output_type": "display_data"
    }
   ],
   "source": [
    "df_train['horse_power'].hist(bins=100)"
   ]
  },
  {
   "cell_type": "markdown",
   "id": "f6bbf609",
   "metadata": {},
   "source": [
    "#### summary\n",
    "\n",
    "Выделив дополнительные колонки из modification мы получили дополнительные данные об объеме двигателя и его мощности. Остальная информация, содержащая по большей части данные о коробке передач, типе привода и тд будем считать избыточной и отбросим."
   ]
  },
  {
   "cell_type": "markdown",
   "id": "06b4d358",
   "metadata": {},
   "source": [
    "### Equipment"
   ]
  },
  {
   "cell_type": "code",
   "execution_count": 12,
   "id": "465da4a3",
   "metadata": {},
   "outputs": [
    {
     "data": {
      "text/plain": [
       "count     1097413\n",
       "unique       1102\n",
       "top       Базовая\n",
       "freq       509423\n",
       "Name: equipment, dtype: object"
      ]
     },
     "execution_count": 12,
     "metadata": {},
     "output_type": "execute_result"
    }
   ],
   "source": [
    "df_train['equipment'].describe()"
   ]
  },
  {
   "cell_type": "code",
   "execution_count": 14,
   "id": "ca1fea47",
   "metadata": {},
   "outputs": [
    {
     "data": {
      "text/plain": [
       "327071"
      ]
     },
     "execution_count": 14,
     "metadata": {},
     "output_type": "execute_result"
    }
   ],
   "source": [
    "df_train['equipment'].isna().sum()"
   ]
  },
  {
   "cell_type": "code",
   "execution_count": 10,
   "id": "6102fed5",
   "metadata": {},
   "outputs": [
    {
     "data": {
      "text/plain": [
       "array(['Highline', None, 'Conceptline', ..., 'Business + NAVI',\n",
       "       'Red Sport', 'Dream III'], dtype=object)"
      ]
     },
     "execution_count": 10,
     "metadata": {},
     "output_type": "execute_result"
    }
   ],
   "source": [
    "df_train['equipment'].unique()"
   ]
  },
  {
   "cell_type": "code",
   "execution_count": 20,
   "id": "d1d69b9c",
   "metadata": {},
   "outputs": [
    {
     "data": {
      "text/plain": [
       "1    1320505\n",
       "2      80939\n",
       "3      19232\n",
       "4       3138\n",
       "5        555\n",
       "6        112\n",
       "7          3\n",
       "Name: equipment, dtype: int64"
      ]
     },
     "execution_count": 20,
     "metadata": {},
     "output_type": "execute_result"
    }
   ],
   "source": [
    "df_train['equipment'].fillna('Базовая').str.split().apply(len).value_counts()"
   ]
  },
  {
   "cell_type": "code",
   "execution_count": 53,
   "id": "23c981da",
   "metadata": {
    "scrolled": true
   },
   "outputs": [
    {
     "data": {
      "text/plain": [
       "array(['Highline', None, 'Conceptline', 'Trendline', 'Comfortline',\n",
       "       'Life', 'Drive', 'Prime', 'Intense', 'Lifestyle', 'Prestige',\n",
       "       'Family', 'S', 'Базовая', 'Sport', 'Royal', 'Base', 'Alltrack',\n",
       "       'Exclusive', 'Active', 'Ambition', 'Standard', 'Comfort',\n",
       "       'Touring', 'Luxury+', 'Superior', 'Premium+', 'Premium', 'Luxury',\n",
       "       'Heritage', 'Сол', 'Executive', 'Excalibur', 'Elegance', 'TRD',\n",
       "       'Luxe', 'Люкс', 'Комфорт', 'Intense+', 'Invite', 'Instyle', 'CC',\n",
       "       'BL', 'DE', 'NAV', 'PC', 'S/AB', 'GLS', 'GT', 'Collection',\n",
       "       'Dynamique', 'Optimum', 'Tendance', 'Original', 'Welcome',\n",
       "       'Advantage', 'Престиж', 'Комфорт+', 'Standart', 'VX', 'VXR', 'GXR',\n",
       "       'Cosmo', 'Classic', 'Vision', 'Style', 'Ultimate', 'Passion',\n",
       "       'Proxy', 'Access', 'Allure', 'Confort', 'Comfort+', 'LE+', 'Tekna',\n",
       "       'SE+', 'XE', 'LE', 'Travel', 'Start', 'Advanced', 'Active+',\n",
       "       'Supreme', 'Expression', 'Privilege', 'Adventure', 'Lounge',\n",
       "       'Feel', 'Live', 'Allstar', 'Advance', 'Design', 'Business',\n",
       "       'Triumph', 'Enjoy', 'Essentia', 'Noble', 'Tg13C', 'Tg-Fl14C',\n",
       "       'Стандарт', 'Norma', 'Inscription', 'R-Design', 'Momentum', 'SE',\n",
       "       'Club', 'Titanium', 'Trend', 'Elite', 'Hi-tech', 'JLX', 'GO!',\n",
       "       'Connect', 'City', 'Luxury-2', 'Premium-2', 'Premium-1', 'Basic',\n",
       "       'Trendy', 'Inform', 'xLine', 'Lux', 'JX', 'Noir', '21101-81',\n",
       "       '21101-82', '21101-84', 'SUV', 'Dynamic', 'Emotion', 'Online',\n",
       "       'Way', 'Exalted', 'Core', 'Joy', 'Crosspolo', '#Club', 'Invite+',\n",
       "       'Authentique', 'Ghia', 'Elegant', 'Limited', 'Longitude',\n",
       "       'Portfolio', 'LX', 'EX', 'Спорт', 'Respect', 'R-Line', 'Status',\n",
       "       'X-Line+', 'X-Line', 'Quest', 'VTR+', 'Ambiente', 'Unlimited',\n",
       "       'Expedition', 'Trophy', 'Oxygo', 'D-Sign', 'M', 'Lounge+', 'SV+',\n",
       "       'SV', 'Entry', 'Overland', 'L&K', 'Velour', 'Metropolis', 'HSE',\n",
       "       'XS', 'LE-R', 'Premier', 'Black&Brown', 'GTI', 'Tg-Fl14Lx',\n",
       "       'Tg-Fl13Lx', 'Primary', 'Avantgarde', 'High-Tech', 'Sportium',\n",
       "       'Optima', 'Reference', 'GL-X', 'GL', 'SL3', 'HL7', 'SL7', 'HL3',\n",
       "       'HL1', 'SL1', 'Avenue', 'Sport&Style', 'Trend&Fun', 'Vogue',\n",
       "       'Cooper', 'Match', 'AVANTGARDE', 'ELEGANCE', 'CLASSIC', 'GLX',\n",
       "       'GL+', 'Премиум', 'Оптима', 'Classic’22', 'Urban', '[BLACK]', 'LT',\n",
       "       'LS', 'Cayenne', 'Origin', 'LTZ', 'JLX-A', 'JLX-E', 'Bussines',\n",
       "       'Би-2', 'Inspire', 'Tour', 'BlueEFFICIENCY', 'JLX-EL',\n",
       "       'Laurin&Klement', 'SportLine', 'Elegance+', 'VTR', 'Трофи', 'XC',\n",
       "       'XG', 'Top', 'L', 'Visioner', 'МТ3', 'MT2', 'MT1', 'QE+', 'QE',\n",
       "       'Sochi', 'Fresh', 'Anniversary', 'Fun', 'Hit', 'Jet', '5S', 'LT+',\n",
       "       'Supreme+', 'Классик', 'Экспедиция', 'Юбилейный', 'Comfort+Navi',\n",
       "       'Euro2012', 'Executive+', 'Sol', '360', 'Luxury+Navi', 'Bluef.',\n",
       "       'Experience', 'Standard+', 'Intelligent', 'MPS', 'High',\n",
       "       'SE+Perso', 'QE+Perso', 'Platinum', 'R-line', 'Classique',\n",
       "       'Vitamin', 'Track&Field', 'Элеганс', 'Attraction', 'Extreme',\n",
       "       'SV2', 'Deluxe', 'Transform', 'SDLX', 'Luxe+', 'Instinct', 'XNN',\n",
       "       'X', 'Pure', 'Kombi', 'Beach', 'Join', 'VF', 'Summum', 'XLT',\n",
       "       'Progressive', '2.0R', 'Fleet', 'Icon', 'Offroad', 'Edition25',\n",
       "       'Cup', 'Авангард', 'WaY', 'CD', 'KF', 'ZD', 'KD', 'SportWay',\n",
       "       'Mid', 'High+', 'Spike', 'R', 'Flagship', 'Nero', 'Premium+SV',\n",
       "       'Статус', 'Оптимум', 'Calligraphy', 'Individual', 'Tg12Lx',\n",
       "       'Tg13Lx', 'Tg12C', 'Kinetic', 'Luxary', 'ZR', 'AQ', 'ZO', '2.0L',\n",
       "       'CX', 'AX', 'Comfortable', 'Allspace', 'Xline', 'Murano', 'Crs12C',\n",
       "       'Crs13C', 'Trend+', 'Edition', 'PanAmericana', 'Chic', 'Diva',\n",
       "       'Basis', 'Play', 'AT7', 'Km14C', 'Km12C', 'International', 'Trust',\n",
       "       'Dream', 'Noire', 'Elegancе', '6AB', 'Autobiography', 'Ride',\n",
       "       'Hot', 'Speedline', \"[BLACK]'22\", \"Classic'22\", \"Comfort'22\",\n",
       "       'Techno', 'Macan', 'Intermediate', 'Tg-Fl13C', 'Direct', 'Scout',\n",
       "       'VOGUE', 'Westminster', 'GLX+', 'Premuim', 'In13C', 'In14C',\n",
       "       'In12C', 'Medalist', 'Pop', 'Supercharged', 'JWC', 'Select',\n",
       "       \"Quest'22\", 'First', 'NC', 'BA', 'KA', 'Максимум', 'Лимитед',\n",
       "       'SiV', 'Hi-Tech', 'Kasten', 'Prestige+', 'Луна+', 'DX', 'BX',\n",
       "       'Style+', 'XT5', 'XV', 'Fifa', 'Nomade', 'Convertible', 'XL',\n",
       "       'Hardtop', '23490-A1-011', '23490-A1-022', '23490-A1-010', 'G',\n",
       "       'MX', 'MZ', 'MV', 'Citivision', 'Explore', 'RS', 'Pulse', 'SHINE',\n",
       "       'FEEL', 'LIVE', 'C-Series', 'Impulse', 'Landmark', 'Graphite',\n",
       "       'Vector', 'Outdoor', 'Sportline', 'Envy', 'Bn14B', 'Bn14Bp',\n",
       "       'JX-A', 'Bn12B', 'Bn12Lx', 'Bn13C', 'Bn13B', 'Bn14Lx', 'Bn13Lx',\n",
       "       'Bn13Bp', 'Bn14C', 'Bn12C', 'In14B', 'In12B', 'In13B', 'Shine',\n",
       "       'Promo', 'MT5', 'MT0', 'Suriken', 'Five', 'Three', 'Four', 'Pro',\n",
       "       'Plus', 'Multispace', 'XC40', 'Shogun', 'Hightech', 'Vr14Lx',\n",
       "       'Vr14C', 'Vr12B', 'Vr14B', 'Vr12Lx', 'Vr13C', 'Vr13B', 'Vr12C',\n",
       "       'Vr13Lx', 'Canyon', 'Atacama', 'CUP', '1A', 'Blueef', 'BM', 'JX-E',\n",
       "       'U', 'LTZ2F', 'LTZM', 'LTZ3V', 'LTZ2V', 'GLI', 'MT6',\n",
       "       'Экспедиционный', 'JOY!', 'CrossCaddy', 'Tramper', 'Luxury+Four',\n",
       "       'Elegance+Four', 'Норма', 'XTR', 'Laredo', 'Trailhawk', 'Луна',\n",
       "       'XE+', 'President', 'Rubicon', 'TOP', 'HIGH+', 'TOP+', 'HIGH',\n",
       "       'MID', 'E-Pace', 'Siv', 'Терра', 'Полный', 'Hi-Tech+'],\n",
       "      dtype=object)"
      ]
     },
     "execution_count": 53,
     "metadata": {},
     "output_type": "execute_result"
    }
   ],
   "source": [
    "df_train[df_train['equipment'].fillna('None').str.split().apply(len) == 1]['equipment'].unique()"
   ]
  },
  {
   "cell_type": "code",
   "execution_count": 28,
   "id": "a88b3862",
   "metadata": {
    "scrolled": true
   },
   "outputs": [
    {
     "data": {
      "text/plain": [
       "array(['Style TCe 150', 'Comfort RED Line', 'Comfort 2018 FWC',\n",
       "       'Long, 5 Seats', 'Long, 4 Seats', 'Short, 5 Seats',\n",
       "       'Intense+ (7 мест)', 'Avantgarde Особая серия',\n",
       "       'Elegance Особая серия', 'Urban Night Edition',\n",
       "       'Dakar Black Edition', 'Hockey Edition Outdoor',\n",
       "       'BlueEFFICIENCY AT Classic', 'Elegance + Navi', 'Style + Navi',\n",
       "       'Cooper S ALL4', 'Prestige + Pano', 'Luxe 7 мест', 'Luxe 5 мест',\n",
       "       'Optima Air conditioner', 'M Sport Pro', 'Style + Multimedia',\n",
       "       'M Sport Plus', 'M Sport Edition', 'GTI \"Edition 35\"',\n",
       "       'Sport Особая серия', 'N Line High-Tech', 'N Line Dynamic',\n",
       "       'Premium 5 мест', 'Luxury 5 мест', 'Elite 7 мест',\n",
       "       'Premium 7 мест', 'Elite 5 мест', 'Luxury 7 мест',\n",
       "       'Executive 5 мест', 'Executive 7 мест', 'M Sport Pure',\n",
       "       'JLX-E SE Exclusive', 'M Sport X', 'Travel Limited Edition',\n",
       "       'LTZ 5 мест', 'Style + Navigation', 'Black&Brown + Winter',\n",
       "       'X Adventure XC', 'White and Black', 'SE TOP N-DESIGN',\n",
       "       'RED Line (Comfort)', 'Comfort Red Line', 'RED Line (Classic)',\n",
       "       'Classic Red Line', 'F Sport Luxury', \"Kasten 'Edition' L1H1\",\n",
       "       'Kasten L2H2 AllCity', 'Kasten L2H1 AllCity',\n",
       "       'Premium Luxury Platinum', 'LE+ Perso Blue', 'LE+ Perso Black',\n",
       "       'QE+ Perso Blue', 'QE+ Perso Black', 'LE+ Perso Orange',\n",
       "       'QE+ Perso Orange', 'Chrome & Style', 'Comfort + Winter',\n",
       "       'Comfort + Advanced', 'Comfort + Light', 'Sport + NAVI',\n",
       "       'Premium + NAVI', 'Sport Desing 2', 'Elegance Plus Connect',\n",
       "       'Prestige Black Edition', 'UEFA Europa League', 'M Sport Model',\n",
       "       'Model Urban Line', 'Luxe Prestige Connect', 'GLE 53 4MATIC+',\n",
       "       'Elegance + NAVI', 'Classic \"Теплые опции\"', 'X Mode Premier',\n",
       "       'GT Line 2015', 'S Active Edition', 'S Hyper Edition',\n",
       "       'Sport Nav SRF', 'Terminator Dark Fate', 'Люкс Премиум Автомат',\n",
       "       'Prestige 5 мест', 'Lifestyle 5 мест', 'High-Tech 7 мест',\n",
       "       'High-Tech 5 мест', 'Prestige 7 мест', \"Luxury CVT '18\",\n",
       "       \"Luxury+ CVT '17\", \"Luxury CVT '17\", \"Comfort CVT '17\",\n",
       "       \"Luxury+ CVT '18\", \"Comfort CVT '18\", 'M Sport Max',\n",
       "       'Dynamic + High-Tech', 'Classic 2018 FWC', 'Classic + Winter',\n",
       "       'Family + Ultra', 'Family 5 мест', 'Bulli 70 лет', 'Track & Style',\n",
       "       'Lifestyle + Advanced', 'LE+ 1Q YEARS', 'Urban Особая серия',\n",
       "       'Lux Su Blue', 'Lux SE Red', 'Luxe Red Cloth', 'Luxe Blue Cloth',\n",
       "       'Prestige + Navi', 'Comfort Winter EnjoY', 'Luxe EnjoY Pro',\n",
       "       'SE Локальная сборка', 'Business Локальная сборка',\n",
       "       'Luxury Локальная сборка', 'Laurin & Klement', 'Style Copa Plus',\n",
       "       'Exclusive 2 Safety', 'Luxe 2018 FWC', 'Comfort 7 мест',\n",
       "       'Comfort 5 мест', 'LTH SRF XNN', 'RX 350 Executive',\n",
       "       'Super Sound edition', 'Helly Hansen limited', 'Edition Plus Luxe',\n",
       "       'Autobiography Ultimate Edition', 'Xv Cruise SRF',\n",
       "       'Специальная серия FIFA', 'Macan S Diesel',\n",
       "       'Nomade Goldwin limited', 'G limited III', 'Nomade G limited',\n",
       "       'Nomade sun roof', 'XL Safety Package', 'RS Safety Package',\n",
       "       'Drive TCe 150', 'LT+ 7 мест', 'LT 5 мест', 'Executive Sport 5',\n",
       "       'Premium Black Edition', 'Drive Active Comfort',\n",
       "       'Blueef Grand Edition', 'Panamera 4S Executive', 'Panamera ST 4S',\n",
       "       'F limited II', 'Luxe Privilege Beige', 'Cosmo Premium Plus',\n",
       "       'TRD-OFF ROAD PREMIUM', 'Premier Special Edition',\n",
       "       'President Limited Edition', 'Comfort Multimedia Plus',\n",
       "       'UX 200 Discover', 'UX 200 Enjoy', 'UX 200 Live', 'UX 200 FSport',\n",
       "       'Optima Advanced (2017)', 'Top Prestige (2015-2016)',\n",
       "       'M Sport Experience', 'Comfort Black line', 'Turbo Super Luxe',\n",
       "       'Business + NAVI'], dtype=object)"
      ]
     },
     "execution_count": 28,
     "metadata": {},
     "output_type": "execute_result"
    }
   ],
   "source": [
    "df_train[df_train['equipment'].fillna('None').str.split().apply(len) == 3]['equipment'].unique()"
   ]
  },
  {
   "cell_type": "code",
   "execution_count": 30,
   "id": "d7253b11",
   "metadata": {},
   "outputs": [
    {
     "data": {
      "text/plain": [
       "array(['Advance 35 TFSI S tronic', 'Design 35 TFSI S tronic',\n",
       "       'Family + Style + High-Tech', 'Comfort 7 мест Multimedia Winter',\n",
       "       'Comfort 5 мест Multimedia Winter',\n",
       "       'Специальная серия «Cosmos» (7 мест)',\n",
       "       'Специальная серия «Cosmos» (8 мест)'], dtype=object)"
      ]
     },
     "execution_count": 30,
     "metadata": {},
     "output_type": "execute_result"
    }
   ],
   "source": [
    "df_train[df_train['equipment'].fillna('None').str.split().apply(len) == 5]['equipment'].unique()"
   ]
  },
  {
   "cell_type": "code",
   "execution_count": 33,
   "id": "a181ad47",
   "metadata": {},
   "outputs": [
    {
     "data": {
      "text/plain": [
       "305165    3300000.0\n",
       "305170    3400000.0\n",
       "305203    3910000.0\n",
       "Name: price, dtype: float64"
      ]
     },
     "execution_count": 33,
     "metadata": {},
     "output_type": "execute_result"
    }
   ],
   "source": [
    "df_train[df_train['equipment'].fillna('None').str.split().apply(len) == 7]['price']"
   ]
  },
  {
   "cell_type": "markdown",
   "id": "887ed132",
   "metadata": {},
   "source": [
    "Как видно, большое количество уникальных значений усложняет работу с ними, при этом часть информации, зашифрованной в строке дублирует уже существующую:\n",
    "'Люкс Премиум Автомат', 'GLE 53 4MATIC+', 'Top Prestige (2015-2016)'"
   ]
  },
  {
   "cell_type": "code",
   "execution_count": 44,
   "id": "7bd25b88",
   "metadata": {},
   "outputs": [
    {
     "data": {
      "text/plain": [
       "(equipment    3168\n",
       " dtype: int64,\n",
       " equipment    137\n",
       " dtype: int64)"
      ]
     },
     "execution_count": 44,
     "metadata": {},
     "output_type": "execute_result"
    }
   ],
   "source": [
    "# Посмотрим, можно ли выделить информацию о количестве мест\n",
    "(df_train.equipment.str.extract(r'(?P<equipment>[0-9]?\\sмест)').notna().sum(), \n",
    "df_train.equipment.str.extract(r'(?P<equipment>[0-9]?\\sseats)').notna().sum())"
   ]
  },
  {
   "cell_type": "code",
   "execution_count": 48,
   "id": "f8280a64",
   "metadata": {},
   "outputs": [
    {
     "data": {
      "text/plain": [
       "equipment    1136\n",
       "dtype: int64"
      ]
     },
     "execution_count": 48,
     "metadata": {},
     "output_type": "execute_result"
    }
   ],
   "source": [
    "# Посмотрим на количество записей с упоминанием о локальной сборке\n",
    "\n",
    "df_train.equipment.str.extract(r'(?P<equipment>Локальная сборка)').notna().sum()"
   ]
  },
  {
   "cell_type": "markdown",
   "id": "0c3c0472",
   "metadata": {},
   "source": [
    "#### summary\n",
    "\n",
    "Очень большое количество категорий. \n",
    "Возможные пути улучшения качества данной колонки:\n",
    "* Убрать опечатки: есть категории \"Luxary\" и \"Confort\", \"Standart\" т.д.\n",
    "* Убрать синонимы, как внутри англоязычных и русскоязычных строк: \"Basic\" и \"Base\", \"Lux\" и \"Luxe\", так и между разными языками - \"Lux\" и \"Люкс\", \"Premium\" и \"Премиум\" и тд\n",
    "* Обрабатывать данную колонку как мультилейбл - возможно преобразование типа mean-target encoding с учетом мультилейблов даст модели лучшее представление о влиянии этой колонки на таргет:\n",
    "\"Family + Style + High-Tech\" можно представить как три лейбла - \"Family\", \"Style\" и \"High-Tech\""
   ]
  },
  {
   "cell_type": "markdown",
   "id": "37395664",
   "metadata": {},
   "source": [
    "### Description"
   ]
  },
  {
   "cell_type": "code",
   "execution_count": 54,
   "id": "35f6d421",
   "metadata": {},
   "outputs": [
    {
     "data": {
      "text/plain": [
       "count                     1422915\n",
       "unique                    1332870\n",
       "top       Все вопросы по телефону\n",
       "freq                         2938\n",
       "Name: description, dtype: object"
      ]
     },
     "execution_count": 54,
     "metadata": {},
     "output_type": "execute_result"
    }
   ],
   "source": [
    "df_train['description'].describe()"
   ]
  },
  {
   "cell_type": "code",
   "execution_count": 31,
   "id": "a8347e30",
   "metadata": {},
   "outputs": [
    {
     "data": {
      "text/plain": [
       "Продаю камри от собственника . Кузов в заводском окрасе, не битая.\\nНа  авто установлен газ, вписан в ПТС \\nТребуется заменить натяжитель цепи, и свечи в коллекторе. \\nБез торга и обмена!                                                                                                                                                                                                                                                                                                                                                                                                                                                                                                                                                                                                                                  1\n",
       "Срочно один день цена,Не Битая Не крашенная.Полная комплектация кондиционер работает морозит+Метан ГБО, всё в идеальном состоянии мотор коробка, электро всё работает, Юрид чисто.                                                                                                                                                                                                                                                                                                                                                                                                                                                                                                                                                                                                                                           1\n",
       "Живая камри 3.5 в отличном состоянии.  Коробка, мотор на 5+ работают идеально, без пинков и всего прочего. Диски оригинальные R17 с 55 кузова. На покрышках протектор почти новый. Рулевая рейка после реставрации, на гарантии.  Заменены рулевые наконечники. Полная замена масла в коробке и двигателе. Полирована + керамика. Машину делал для себя, надёжный, бодрый и уверенный автомобиль, японской сборки. От машины одни положительные эмоции.  Я хозяин, вписан в ПТС. ПТС оригинал.\\nСрочно.                                                                                                                                                                                                                                                                                                                      1\n",
       "Отрываю от сердца своего железного коня. От машины не избавляюсь, нужны деньги. За машиной ухаживал, все жидкости поменял, где можно было. Ходовку перебрал, привод поменял, ДВС масло не расходует. Самолёт ✈️ \\nКоробка была капитал, работает как часы. За машину не стыдно. При осмотре реальному покупателю торг.                                                                                                                                                                                                                                                                                                                                                                                                                                                                                                       1\n",
       "В отличном состоянии!\\nМотор после капиталки \\nКоробка отлично \\nХодовая отлично\\nПо пояс крашена                                                                                                                                                                                                                                                                                                                                                                                                                                                                                                                                                                                                                                                                                                                            1\n",
       "                                                                                                                                                                                                                                                                                                                                                                                                                                                                                                                                                                                                                                                                                                                                                                                                                            ..\n",
       "2 владельца. Я и мой отец, без торга. Состояние идеальное, без торга                                                                                                                                                                                                                                                                                                                                                                                                                                                                                                                                                                                                                                                                                                                                                         1\n",
       "Машина узоженная продаю за 700т сейчас начала шуметь цепь мастер проверил нужна замена комплекта грм на ремот скину цену, коробка усилина дополнительно установлен радиатор охлаждения по ходовой нареканий нет, все расзодники менял вовремя , колеса радиус 16 зима лето на родных дисках                                                                                                                                                                                                                                                                                                                                                                                                                                                                                                                                  1\n",
       "В хорошем состоянии, с продажей не тороплюсь, интересует обмен на крузак 100, Прадо и Lexus LX                                                                                                                                                                                                                                                                                                                                                                                                                                                                                                                                                                                                                                                                                                                               1\n",
       "Продаю в связи с покупкой недвижимости \\nПозволь себе  мечту в ОТЛИЧНОм ТЕХНИЧЕСКОм СОСТОЯНИи!\\n- Сигнализация с автозапуском\\n- Передние сидения с функцией подогрева\\n- Электропривод сиденья водителя и переднего пассажира\\n- Наружные зеркала заднего вида c электроприводом складывания, обогревом\\n- Зеркало заднего вида с функцией автоматического затемнения\\n- Стеклоочистители с датчиком дождя\\n- Передние противотуманные фары\\n- Омыватель передних фар\\n- Круиз-контроль\\n- Двойная выхлопная труба\\n- Камера заднего вида\\n- Система контроля давления в шинах\\n- Солнцезащитные козырьки с зеркалами и встроенной подсветкой\\n- Датчик света\\n- Чёрный кожаный салон\\n-Замена цепей ДВС\\n-Коробка от лексуса толстая не рвёт\\n-Продажа от собственника\\n- Газ узаконен - 20% налога\\nМини торг у капота    1\n",
       "Автомобиль в хорошем состоянии,я второй хозяин.Сигнализация Pandora с автозапуском.Два комплекта ключей.Так же,установлен газ(итальянское оборудование).Всё ТО проходила во время.\\nВ салоны машину загонять не буду,на продажу на встречи показывать не езжу,есть адрес,приезжайте.Остальные вопросы по телефону.                                                                                                                                                                                                                                                                                                                                                                                                                                                                                                           1\n",
       "Name: description, Length: 800, dtype: int64"
      ]
     },
     "execution_count": 31,
     "metadata": {},
     "output_type": "execute_result"
    }
   ],
   "source": [
    "df_train['description'].value_counts()[-1000:-200]"
   ]
  },
  {
   "cell_type": "markdown",
   "id": "327a318f",
   "metadata": {},
   "source": [
    "#### summary\n",
    "\n",
    "Очень большое количество категорий, много вариантов обработки. \n",
    "Возможные пути обработки текстов описаний:\n",
    "* Убрать самые частые как неинформативные - \"Торг\", \"Все вопросы по телефону\", \".\" и т.д.\n",
    "* Судя по описаниям - объявления с очень подробным и одинаковым описанием написаны от дилерских центров или перекупов. Возможно имеет смысл выделить в отдельную колонку информацию об этом.\n",
    "* Получение эмбеддингов описаний: tf-idf, word2vec c, например, последующией кластеризацией."
   ]
  },
  {
   "cell_type": "markdown",
   "id": "d776b2c2",
   "metadata": {},
   "source": [
    "### Audiosystem"
   ]
  },
  {
   "cell_type": "code",
   "execution_count": 20,
   "id": "73719952",
   "metadata": {},
   "outputs": [
    {
     "data": {
      "text/plain": [
       "count    446913.000000\n",
       "mean      13775.747063\n",
       "std           0.875856\n",
       "min       13774.000000\n",
       "25%       13775.000000\n",
       "50%       13776.000000\n",
       "75%       13776.000000\n",
       "max       13777.000000\n",
       "Name: audiosistema, dtype: float64"
      ]
     },
     "execution_count": 20,
     "metadata": {},
     "output_type": "execute_result"
    }
   ],
   "source": [
    "df_train['audiosistema'].describe()"
   ]
  },
  {
   "cell_type": "code",
   "execution_count": 21,
   "id": "bcd693e2",
   "metadata": {},
   "outputs": [],
   "source": [
    "mask = {str(i): options[options['id'] == i].viewItemLabel.values[0] for i in df_train['audiosistema'].dropna().unique()}\n",
    "mask['nan'] = 'Нет аудиосистемы'"
   ]
  },
  {
   "cell_type": "code",
   "execution_count": 22,
   "id": "d45e5c94",
   "metadata": {},
   "outputs": [
    {
     "data": {
      "text/plain": [
       "{'13777.0': '8+ колонок',\n",
       " '13776.0': '6 колонок',\n",
       " '13775.0': '4 колонки',\n",
       " '13774.0': '2 колонки',\n",
       " 'nan': 'Нет аудиосистемы'}"
      ]
     },
     "execution_count": 22,
     "metadata": {},
     "output_type": "execute_result"
    }
   ],
   "source": [
    "mask"
   ]
  },
  {
   "cell_type": "code",
   "execution_count": 23,
   "id": "f1d6cbdd",
   "metadata": {},
   "outputs": [],
   "source": [
    "df_train['audiosistema'] = df_train['audiosistema'].apply(lambda x: mask[str(x)])"
   ]
  },
  {
   "cell_type": "code",
   "execution_count": 24,
   "id": "be986539",
   "metadata": {},
   "outputs": [
    {
     "data": {
      "text/plain": [
       "Нет аудиосистемы    977571\n",
       "4 колонки           160659\n",
       "6 колонок           157060\n",
       "8+ колонок          102002\n",
       "2 колонки            27192\n",
       "Name: audiosistema, dtype: int64"
      ]
     },
     "execution_count": 24,
     "metadata": {},
     "output_type": "execute_result"
    }
   ],
   "source": [
    "df_train['audiosistema'].value_counts()"
   ]
  },
  {
   "cell_type": "code",
   "execution_count": 25,
   "id": "3513d3f7",
   "metadata": {},
   "outputs": [
    {
     "data": {
      "text/plain": [
       "<seaborn.axisgrid.FacetGrid at 0x1a0db454bb0>"
      ]
     },
     "execution_count": 25,
     "metadata": {},
     "output_type": "execute_result"
    },
    {
     "data": {
      "image/png": "[encoded data removed]",
      "text/plain": [
       "<Figure size 864x432 with 1 Axes>"
      ]
     },
     "metadata": {
      "needs_background": "light"
     },
     "output_type": "display_data"
    }
   ],
   "source": [
    "fig = sns.catplot(data=df_train[['audiosistema', 'price']], x=\"audiosistema\", y=\"price\", kind=\"box\", height=6, aspect=2)\n",
    "plt.xticks(rotation=70)\n",
    "fig.set(ylim=(0, 0.6e7))"
   ]
  },
  {
   "cell_type": "markdown",
   "id": "56230ead",
   "metadata": {},
   "source": [
    "#### summary\n",
    "\n",
    "Категория довольно сильно связана с таргетом - распределения довольно сильно отличаются в зависимости от наличия и типа аудиосистемы."
   ]
  },
  {
   "cell_type": "markdown",
   "id": "b0ed5db8",
   "metadata": {},
   "source": [
    "### Wheels\n",
    "####  discs"
   ]
  },
  {
   "cell_type": "code",
   "execution_count": 9,
   "id": "2f97ff36",
   "metadata": {},
   "outputs": [
    {
     "data": {
      "text/plain": [
       "count    605984.000000\n",
       "mean      13795.480234\n",
       "std           1.661153\n",
       "min       13786.000000\n",
       "25%       13794.000000\n",
       "50%       13795.000000\n",
       "75%       13796.000000\n",
       "max       13809.000000\n",
       "Name: diski, dtype: float64"
      ]
     },
     "execution_count": 9,
     "metadata": {},
     "output_type": "execute_result"
    }
   ],
   "source": [
    "df_train['diski'].describe()"
   ]
  },
  {
   "cell_type": "code",
   "execution_count": 10,
   "id": "149309cc",
   "metadata": {},
   "outputs": [],
   "source": [
    "mask = {str(i): int(options[options['id'] == i].viewItemLabel.values[0][:-1]) for i in df_train['diski'].dropna().unique()}\n",
    "mask['nan'] = -1"
   ]
  },
  {
   "cell_type": "code",
   "execution_count": 11,
   "id": "b473eb76",
   "metadata": {
    "scrolled": true
   },
   "outputs": [
    {
     "data": {
      "text/plain": [
       "{'13796.0': 17,\n",
       " '13797.0': 18,\n",
       " '13795.0': 16,\n",
       " '13798.0': 19,\n",
       " '13800.0': 21,\n",
       " '13799.0': 20,\n",
       " '13801.0': 22,\n",
       " '13803.0': 24,\n",
       " '13793.0': 14,\n",
       " '13794.0': 15,\n",
       " '13792.0': 13,\n",
       " '13802.0': 23,\n",
       " '13806.0': 27,\n",
       " '13809.0': 30,\n",
       " '13790.0': 11,\n",
       " '13789.0': 10,\n",
       " '13786.0': 7,\n",
       " '13804.0': 25,\n",
       " '13787.0': 8,\n",
       " '13805.0': 26,\n",
       " '13791.0': 12,\n",
       " '13788.0': 9,\n",
       " '13807.0': 28,\n",
       " '13808.0': 29,\n",
       " 'nan': -1}"
      ]
     },
     "execution_count": 11,
     "metadata": {},
     "output_type": "execute_result"
    }
   ],
   "source": [
    "mask"
   ]
  },
  {
   "cell_type": "code",
   "execution_count": 12,
   "id": "b4401d4a",
   "metadata": {},
   "outputs": [],
   "source": [
    "df_train['diski'] = df_train['diski'].apply(lambda x: mask[str(x)])"
   ]
  },
  {
   "cell_type": "code",
   "execution_count": 13,
   "id": "94dae4ca",
   "metadata": {},
   "outputs": [
    {
     "data": {
      "image/png": "[encoded data removed]",
      "text/plain": [
       "<Figure size 864x432 with 1 Axes>"
      ]
     },
     "metadata": {
      "needs_background": "light"
     },
     "output_type": "display_data"
    }
   ],
   "source": [
    "fig = sns.catplot(data=df_train[['diski', 'price']], x=\"diski\", y=\"price\", kind=\"box\", height=6, aspect=2)\n",
    "plt.xticks(rotation=70)\n",
    "fig.set(ylim=(0, 3e7))\n",
    "plt.show()"
   ]
  },
  {
   "cell_type": "code",
   "execution_count": 15,
   "id": "f63e8bec",
   "metadata": {},
   "outputs": [
    {
     "data": {
      "text/plain": [
       "-1     818500\n",
       " 16    176924\n",
       " 17    129135\n",
       " 15    103437\n",
       " 18     76016\n",
       " 14     43319\n",
       " 19     32515\n",
       " 20     21055\n",
       " 13     12215\n",
       " 21      7209\n",
       " 22      3164\n",
       " 12       368\n",
       " 30       161\n",
       " 8         98\n",
       " 7         94\n",
       " 10        68\n",
       " 23        41\n",
       " 24        41\n",
       " 25        28\n",
       " 9         28\n",
       " 11        26\n",
       " 29        14\n",
       " 26        11\n",
       " 28         9\n",
       " 27         8\n",
       "Name: diski, dtype: int64"
      ]
     },
     "execution_count": 15,
     "metadata": {},
     "output_type": "execute_result"
    }
   ],
   "source": [
    "df_train['diski'].value_counts()"
   ]
  },
  {
   "cell_type": "code",
   "execution_count": 21,
   "id": "1144705c",
   "metadata": {},
   "outputs": [
    {
     "data": {
      "image/png": "[encoded data removed]",
      "text/plain": [
       "<Figure size 1440x720 with 1 Axes>"
      ]
     },
     "metadata": {},
     "output_type": "display_data"
    }
   ],
   "source": [
    "# Построим гистрограмму без неизвестных значений\n",
    "fig = sns.histplot(data=df_train[df_train['diski'] != -1]['diski'], discrete=True)"
   ]
  },
  {
   "cell_type": "markdown",
   "id": "8fc5b431",
   "metadata": {},
   "source": [
    "#### Summary\n",
    "\n",
    "Больше половины всех значений - пропуски, при этом там, где мы знаем о величине дисков видно, что есть взаимосвязь с таргетом.\n",
    "Возможно будет иметь смысл размечать пропуски, например модой по данной модели автомобиля."
   ]
  },
  {
   "cell_type": "markdown",
   "id": "34c95861",
   "metadata": {},
   "source": [
    "### Power windows\n",
    "#### electropodemniki"
   ]
  },
  {
   "cell_type": "code",
   "execution_count": 23,
   "id": "287da9cd",
   "metadata": {},
   "outputs": [
    {
     "data": {
      "text/plain": [
       "count    809911.000000\n",
       "mean      13727.806817\n",
       "std           0.394796\n",
       "min       13727.000000\n",
       "25%       13728.000000\n",
       "50%       13728.000000\n",
       "75%       13728.000000\n",
       "max       13728.000000\n",
       "Name: electropodemniki, dtype: float64"
      ]
     },
     "execution_count": 23,
     "metadata": {},
     "output_type": "execute_result"
    }
   ],
   "source": [
    "df_train['electropodemniki'].describe()"
   ]
  },
  {
   "cell_type": "code",
   "execution_count": 27,
   "id": "14d5fded",
   "metadata": {},
   "outputs": [
    {
     "data": {
      "text/plain": [
       "13728.0    653450\n",
       "13727.0    156461\n",
       "Name: electropodemniki, dtype: int64"
      ]
     },
     "execution_count": 27,
     "metadata": {},
     "output_type": "execute_result"
    }
   ],
   "source": [
    "df_train['electropodemniki'].value_counts()"
   ]
  },
  {
   "cell_type": "code",
   "execution_count": 28,
   "id": "f0081532",
   "metadata": {},
   "outputs": [],
   "source": [
    "mask = {str(i): options[options['id'] == i].viewItemLabel.values[0] for i in df_train['electropodemniki'].dropna().unique()}\n",
    "mask['nan'] = 'Нет данных'"
   ]
  },
  {
   "cell_type": "code",
   "execution_count": 29,
   "id": "0b307b50",
   "metadata": {},
   "outputs": [
    {
     "data": {
      "text/plain": [
       "{'13728.0': 'Передние и задние',\n",
       " '13727.0': 'Только передние',\n",
       " 'nan': 'Нет данных'}"
      ]
     },
     "execution_count": 29,
     "metadata": {},
     "output_type": "execute_result"
    }
   ],
   "source": [
    "mask"
   ]
  },
  {
   "cell_type": "code",
   "execution_count": 30,
   "id": "fef919df",
   "metadata": {},
   "outputs": [],
   "source": [
    "df_train['electropodemniki'] = df_train['electropodemniki'].apply(lambda x: mask[str(x)])"
   ]
  },
  {
   "cell_type": "code",
   "execution_count": 32,
   "id": "abd8fb6e",
   "metadata": {},
   "outputs": [
    {
     "data": {
      "image/png": "[encoded data removed]",
      "text/plain": [
       "<Figure size 864x432 with 1 Axes>"
      ]
     },
     "metadata": {},
     "output_type": "display_data"
    }
   ],
   "source": [
    "fig = sns.catplot(data=df_train[['electropodemniki', 'price']], x=\"electropodemniki\", y=\"price\", kind=\"box\", height=6, aspect=2)\n",
    "plt.xticks(rotation=70)\n",
    "fig.set(ylim=(0, 0.5e7))\n",
    "plt.show()"
   ]
  },
  {
   "cell_type": "markdown",
   "id": "4deee300",
   "metadata": {},
   "source": [
    "#### Summary\n",
    "\n",
    "Почти половина значений - пропуски, при этом видно что распределения у категорий \"передние и задние\" и \"только передние\" заметно отличаются.\n",
    "Для разметки отсутствующих данных, возможно, поможет размечать модой по аналогичным моделям с аналогичной комплектацией"
   ]
  },
  {
   "cell_type": "markdown",
   "id": "bdc2363e",
   "metadata": {},
   "source": [
    "### Lights\n",
    "####  fary"
   ]
  },
  {
   "cell_type": "code",
   "execution_count": 33,
   "id": "71f6a4cf",
   "metadata": {},
   "outputs": [
    {
     "data": {
      "text/plain": [
       "count    446581.000000\n",
       "mean      13780.758447\n",
       "std           0.798808\n",
       "min       13780.000000\n",
       "25%       13780.000000\n",
       "50%       13781.000000\n",
       "75%       13781.000000\n",
       "max       13782.000000\n",
       "Name: fary, dtype: float64"
      ]
     },
     "execution_count": 33,
     "metadata": {},
     "output_type": "execute_result"
    }
   ],
   "source": [
    "df_train['fary'].describe()"
   ]
  },
  {
   "cell_type": "code",
   "execution_count": 34,
   "id": "9bac927d",
   "metadata": {},
   "outputs": [
    {
     "data": {
      "text/plain": [
       "13780.0    209445\n",
       "13781.0    135564\n",
       "13782.0    101572\n",
       "Name: fary, dtype: int64"
      ]
     },
     "execution_count": 34,
     "metadata": {},
     "output_type": "execute_result"
    }
   ],
   "source": [
    "df_train['fary'].value_counts()"
   ]
  },
  {
   "cell_type": "code",
   "execution_count": 35,
   "id": "378c9df6",
   "metadata": {},
   "outputs": [
    {
     "data": {
      "text/plain": [
       "{'13780.0': 'Галогенные',\n",
       " '13782.0': 'Светодиодные',\n",
       " '13781.0': 'Ксеноновые',\n",
       " 'nan': 'Нет данных'}"
      ]
     },
     "execution_count": 35,
     "metadata": {},
     "output_type": "execute_result"
    }
   ],
   "source": [
    "mask = {str(i): options[options['id'] == i].viewItemLabel.values[0] for i in df_train['fary'].dropna().unique()}\n",
    "mask['nan'] = 'Нет данных'\n",
    "mask"
   ]
  },
  {
   "cell_type": "code",
   "execution_count": 37,
   "id": "4a03459e",
   "metadata": {},
   "outputs": [],
   "source": [
    "df_train['fary'] = df_train['fary'].apply(lambda x: mask[str(x)])"
   ]
  },
  {
   "cell_type": "code",
   "execution_count": 39,
   "id": "f67ee84b",
   "metadata": {},
   "outputs": [
    {
     "data": {
      "image/png": "[encoded data removed]",
      "text/plain": [
       "<Figure size 864x432 with 1 Axes>"
      ]
     },
     "metadata": {},
     "output_type": "display_data"
    }
   ],
   "source": [
    "fig = sns.catplot(data=df_train[['fary', 'price']], x=\"fary\", y=\"price\", kind=\"box\", height=6, aspect=2)\n",
    "plt.xticks(rotation=70)\n",
    "fig.set(ylim=(0, 1e7))\n",
    "plt.show()"
   ]
  },
  {
   "cell_type": "markdown",
   "id": "b5bf7250",
   "metadata": {},
   "source": [
    "#### Summary\n",
    "\n",
    "Аналогично предыдущим колонкам, данная имеет 2/3 пропусков. Возможно поможет разметка модой по аналогичным моделям и комплектации."
   ]
  },
  {
   "cell_type": "markdown",
   "id": "8d8a89b5",
   "metadata": {},
   "source": [
    "### Climate control\n",
    "#### upravlenie_klimatom"
   ]
  },
  {
   "cell_type": "code",
   "execution_count": 40,
   "id": "f7bbd3b4",
   "metadata": {},
   "outputs": [
    {
     "data": {
      "text/plain": [
       "count    797670.000000\n",
       "mean      13710.062752\n",
       "std           0.882270\n",
       "min       13709.000000\n",
       "25%       13709.000000\n",
       "50%       13710.000000\n",
       "75%       13711.000000\n",
       "max       13711.000000\n",
       "Name: upravlenie_klimatom, dtype: float64"
      ]
     },
     "execution_count": 40,
     "metadata": {},
     "output_type": "execute_result"
    }
   ],
   "source": [
    "df_train['upravlenie_klimatom'].describe()"
   ]
  },
  {
   "cell_type": "code",
   "execution_count": 41,
   "id": "792e4f77",
   "metadata": {},
   "outputs": [
    {
     "data": {
      "text/plain": [
       "13711.0    337051\n",
       "13709.0    286996\n",
       "13710.0    173623\n",
       "Name: upravlenie_klimatom, dtype: int64"
      ]
     },
     "execution_count": 41,
     "metadata": {},
     "output_type": "execute_result"
    }
   ],
   "source": [
    "df_train['upravlenie_klimatom'].value_counts()"
   ]
  },
  {
   "cell_type": "code",
   "execution_count": 42,
   "id": "092b5100",
   "metadata": {},
   "outputs": [
    {
     "data": {
      "text/plain": [
       "{'13711.0': 'Климат-контроль многозонный',\n",
       " '13710.0': 'Климат-контроль однозонный',\n",
       " '13709.0': 'Кондиционер',\n",
       " 'nan': 'Нет данных'}"
      ]
     },
     "execution_count": 42,
     "metadata": {},
     "output_type": "execute_result"
    }
   ],
   "source": [
    "mask = {str(i): options[options['id'] == i].viewItemLabel.values[0] for i in df_train['upravlenie_klimatom'].dropna().unique()}\n",
    "mask['nan'] = 'Нет данных'\n",
    "mask"
   ]
  },
  {
   "cell_type": "code",
   "execution_count": 43,
   "id": "c6f17a3d",
   "metadata": {},
   "outputs": [],
   "source": [
    "df_train['upravlenie_klimatom'] = df_train['upravlenie_klimatom'].apply(lambda x: mask[str(x)])"
   ]
  },
  {
   "cell_type": "code",
   "execution_count": 45,
   "id": "e1b8ffd3",
   "metadata": {},
   "outputs": [
    {
     "data": {
      "image/png": "[encoded data removed]",
      "text/plain": [
       "<Figure size 864x432 with 1 Axes>"
      ]
     },
     "metadata": {},
     "output_type": "display_data"
    }
   ],
   "source": [
    "fig = sns.catplot(data=df_train[['upravlenie_klimatom', 'price']], x=\"upravlenie_klimatom\", y=\"price\", kind=\"box\", height=6, aspect=2)\n",
    "plt.xticks(rotation=70)\n",
    "fig.set(ylim=(0, 0.5e7))\n",
    "plt.show()"
   ]
  },
  {
   "cell_type": "markdown",
   "id": "3f70f733",
   "metadata": {},
   "source": [
    "### Summary\n",
    "\n",
    "Аналогично предыдущим колонкам, данная имеет 2/3 пропусков. Возможно поможет разметка модой по аналогичным моделям и комплектации, а также парсинг description."
   ]
  },
  {
   "cell_type": "markdown",
   "id": "c091ffdf",
   "metadata": {},
   "source": [
    "### Power steering\n",
    "#### usilitel_rul "
   ]
  },
  {
   "cell_type": "code",
   "execution_count": 46,
   "id": "f2bfca94",
   "metadata": {},
   "outputs": [
    {
     "data": {
      "text/plain": [
       "count    748316.000000\n",
       "mean      13705.576199\n",
       "std           0.867156\n",
       "min       13705.000000\n",
       "25%       13705.000000\n",
       "50%       13705.000000\n",
       "75%       13707.000000\n",
       "max       13707.000000\n",
       "Name: usilitel_rul, dtype: float64"
      ]
     },
     "execution_count": 46,
     "metadata": {},
     "output_type": "execute_result"
    }
   ],
   "source": [
    "df_train['usilitel_rul'].describe()"
   ]
  },
  {
   "cell_type": "code",
   "execution_count": 47,
   "id": "6f6ec0c4",
   "metadata": {},
   "outputs": [
    {
     "data": {
      "text/plain": [
       "13705.0    507121\n",
       "13707.0    189984\n",
       "13706.0     51211\n",
       "Name: usilitel_rul, dtype: int64"
      ]
     },
     "execution_count": 47,
     "metadata": {},
     "output_type": "execute_result"
    }
   ],
   "source": [
    "df_train['usilitel_rul'].value_counts()"
   ]
  },
  {
   "cell_type": "code",
   "execution_count": 48,
   "id": "2d198076",
   "metadata": {},
   "outputs": [
    {
     "data": {
      "text/plain": [
       "{'13707.0': 'Электрический',\n",
       " '13706.0': 'Электрогидравлический',\n",
       " '13705.0': 'Гидравлический',\n",
       " 'nan': 'Нет данных'}"
      ]
     },
     "execution_count": 48,
     "metadata": {},
     "output_type": "execute_result"
    }
   ],
   "source": [
    "mask = {str(i): options[options['id'] == i].viewItemLabel.values[0] for i in df_train['usilitel_rul'].dropna().unique()}\n",
    "mask['nan'] = 'Нет данных'\n",
    "mask"
   ]
  },
  {
   "cell_type": "code",
   "execution_count": 50,
   "id": "733f6fce",
   "metadata": {},
   "outputs": [],
   "source": [
    "df_train['usilitel_rul'] = df_train['usilitel_rul'].apply(lambda x: mask[str(x)])"
   ]
  },
  {
   "cell_type": "code",
   "execution_count": 51,
   "id": "02b35e2e",
   "metadata": {},
   "outputs": [
    {
     "data": {
      "image/png": "[encoded data removed]",
      "text/plain": [
       "<Figure size 864x432 with 1 Axes>"
      ]
     },
     "metadata": {},
     "output_type": "display_data"
    }
   ],
   "source": [
    "fig = sns.catplot(data=df_train[['usilitel_rul', 'price']], x=\"usilitel_rul\", y=\"price\", kind=\"box\", height=6, aspect=2)\n",
    "plt.xticks(rotation=70)\n",
    "fig.set(ylim=(0, 0.5e7))\n",
    "plt.show()"
   ]
  },
  {
   "cell_type": "markdown",
   "id": "5c5815e9",
   "metadata": {},
   "source": [
    "#### Summary\n",
    "\n",
    "Аналогично предыдущим колонкам, данная имеет половину пропусков. Возможно поможет разметка модой по аналогичным моделям и комплектации.\n",
    "Дополнительно можно попробовать парсить description, модель и equipment по запросам EHPS, HPS, EPS."
   ]
  },
  {
   "cell_type": "markdown",
   "id": "445f809d",
   "metadata": {},
   "source": [
    "### Audiosystem mult\n",
    "#### audiosistema_mult"
   ]
  },
  {
   "cell_type": "code",
   "execution_count": 9,
   "id": "ffb2a8c1",
   "metadata": {},
   "outputs": [
    {
     "data": {
      "text/plain": [
       "count       92906\n",
       "unique          1\n",
       "top       [13778]\n",
       "freq        92906\n",
       "Name: audiosistema_mult, dtype: object"
      ]
     },
     "execution_count": 9,
     "metadata": {},
     "output_type": "execute_result"
    }
   ],
   "source": [
    "df_train['audiosistema_mult'].describe()"
   ]
  },
  {
   "cell_type": "code",
   "execution_count": 10,
   "id": "f3ab8928",
   "metadata": {},
   "outputs": [
    {
     "data": {
      "text/plain": [
       "[13778]    92906\n",
       "Name: audiosistema_mult, dtype: int64"
      ]
     },
     "execution_count": 10,
     "metadata": {},
     "output_type": "execute_result"
    }
   ],
   "source": [
    "df_train['audiosistema_mult'].value_counts()"
   ]
  },
  {
   "cell_type": "code",
   "execution_count": 11,
   "id": "4c3b5854",
   "metadata": {},
   "outputs": [
    {
     "data": {
      "text/plain": [
       "{'[13778]': 'Сабвуфер', 'None': 'Нет данных'}"
      ]
     },
     "execution_count": 11,
     "metadata": {},
     "output_type": "execute_result"
    }
   ],
   "source": [
    "mask = {str(i): options[options['id'] == float(i.strip('[]'))].viewItemLabel.values[0] for i in df_train['audiosistema_mult'].dropna().unique()}\n",
    "mask['None'] = 'Нет данных'\n",
    "mask"
   ]
  },
  {
   "cell_type": "code",
   "execution_count": 12,
   "id": "32ea5baf",
   "metadata": {},
   "outputs": [],
   "source": [
    "df_train['audiosistema_mult'] = df_train['audiosistema_mult'].apply(lambda x: mask[str(x)])"
   ]
  },
  {
   "cell_type": "code",
   "execution_count": 13,
   "id": "bdff8f73",
   "metadata": {},
   "outputs": [
    {
     "data": {
      "image/png": "[encoded data removed]",
      "text/plain": [
       "<Figure size 864x432 with 1 Axes>"
      ]
     },
     "metadata": {
      "needs_background": "light"
     },
     "output_type": "display_data"
    }
   ],
   "source": [
    "fig = sns.catplot(data=df_train[['audiosistema_mult', 'price']], x=\"audiosistema_mult\", y=\"price\", kind=\"box\", height=6, aspect=2)\n",
    "plt.xticks(rotation=70)\n",
    "fig.set(ylim=(0, 0.5e7))\n",
    "plt.show()"
   ]
  },
  {
   "cell_type": "code",
   "execution_count": 29,
   "id": "fd6183db",
   "metadata": {},
   "outputs": [
    {
     "data": {
      "text/plain": [
       "([0, 1, 2, 3, 4],\n",
       " [Text(0, 0, ''),\n",
       "  Text(0, 0, ''),\n",
       "  Text(0, 0, ''),\n",
       "  Text(0, 0, ''),\n",
       "  Text(0, 0, '')])"
      ]
     },
     "execution_count": 29,
     "metadata": {},
     "output_type": "execute_result"
    },
    {
     "data": {
      "image/png": "[encoded data removed]",
      "text/plain": [
       "<Figure size 432x288 with 1 Axes>"
      ]
     },
     "metadata": {
      "needs_background": "light"
     },
     "output_type": "display_data"
    }
   ],
   "source": [
    "# Посмотрим пересечение - какое количество колонок аудиосистемы у автомобилей с сабвуфером\n",
    "sns.histplot(data=df_train[df_train['audiosistema_mult'] == 'Сабвуфер']['audiosistema'])\n",
    "plt.xticks(rotation=70)"
   ]
  },
  {
   "cell_type": "code",
   "execution_count": 28,
   "id": "b417c0b5",
   "metadata": {},
   "outputs": [
    {
     "data": {
      "text/plain": [
       "8+ колонок          48108\n",
       "Нет аудиосистемы    17985\n",
       "6 колонок           17106\n",
       "4 колонки            8763\n",
       "2 колонки             944\n",
       "Name: audiosistema, dtype: int64"
      ]
     },
     "execution_count": 28,
     "metadata": {},
     "output_type": "execute_result"
    }
   ],
   "source": [
    "df_train[df_train['audiosistema_mult'] == 'Сабвуфер']['audiosistema'].value_counts()"
   ]
  },
  {
   "cell_type": "markdown",
   "id": "50e7be63",
   "metadata": {},
   "source": [
    "#### Summary\n",
    "\n",
    "Таким образом, данная колонка - по сути бинарный категориальный признак наличия сабвуфера в автомобильной аудиосистеме.\n",
    "Пропущенные значения можно попытаться спарсить из description."
   ]
  },
  {
   "cell_type": "markdown",
   "id": "0d0f2cd8",
   "metadata": {},
   "source": [
    "### Tares and wheels mult\n",
    "#### shini_i_diski_mult"
   ]
  },
  {
   "cell_type": "code",
   "execution_count": 29,
   "id": "0af58563",
   "metadata": {},
   "outputs": [
    {
     "data": {
      "text/plain": [
       "count      376941\n",
       "unique          1\n",
       "top       [13810]\n",
       "freq       376941\n",
       "Name: shini_i_diski_mult, dtype: object"
      ]
     },
     "execution_count": 29,
     "metadata": {},
     "output_type": "execute_result"
    }
   ],
   "source": [
    "df_train['shini_i_diski_mult'].describe()"
   ]
  },
  {
   "cell_type": "code",
   "execution_count": 33,
   "id": "9241d353",
   "metadata": {},
   "outputs": [
    {
     "data": {
      "text/plain": [
       "{'[13810]': 'Зимние шины в комплекте', 'None': 'Нет данных'}"
      ]
     },
     "execution_count": 33,
     "metadata": {},
     "output_type": "execute_result"
    }
   ],
   "source": [
    "mask = {str(i): options[options['id'] == float(i.strip('[]'))].viewItemLabel.values[0] for i in df_train['shini_i_diski_mult'].dropna().unique()}\n",
    "mask['None'] = 'Нет данных'\n",
    "mask"
   ]
  },
  {
   "cell_type": "code",
   "execution_count": 35,
   "id": "b961198c",
   "metadata": {},
   "outputs": [],
   "source": [
    "df_train['shini_i_diski_mult'] = df_train['shini_i_diski_mult'].apply(lambda x: mask[str(x)])"
   ]
  },
  {
   "cell_type": "code",
   "execution_count": 36,
   "id": "7bf36639",
   "metadata": {},
   "outputs": [
    {
     "data": {
      "image/png": "[encoded data removed]",
      "text/plain": [
       "<Figure size 864x432 with 1 Axes>"
      ]
     },
     "metadata": {
      "needs_background": "light"
     },
     "output_type": "display_data"
    }
   ],
   "source": [
    "fig = sns.catplot(data=df_train[['shini_i_diski_mult', 'price']], x=\"shini_i_diski_mult\", y=\"price\", kind=\"box\", height=6, aspect=2)\n",
    "plt.xticks(rotation=70)\n",
    "fig.set(ylim=(0, 0.5e7))\n",
    "plt.show()"
   ]
  },
  {
   "cell_type": "markdown",
   "id": "796f6880",
   "metadata": {},
   "source": [
    "#### Summary\n",
    "\n",
    "Данная колонка так же является бинарным категориальным признаком наличия зимных шин в комплекте.\n",
    "Пропущенные значения можно попробывать парсить из description."
   ]
  },
  {
   "cell_type": "code",
   "execution_count": null,
   "id": "d55b8ade",
   "metadata": {},
   "outputs": [],
   "source": []
  },
  {
   "cell_type": "code",
   "execution_count": null,
   "id": "23eedf05",
   "metadata": {},
   "outputs": [],
   "source": []
  }
 ],
 "metadata": {
  "kernelspec": {
   "display_name": "Python 3 (ipykernel)",
   "language": "python",
   "name": "python3"
  },
  "language_info": {
   "codemirror_mode": {
    "name": "ipython",
    "version": 3
   },
   "file_extension": ".py",
   "mimetype": "text/x-python",
   "name": "python",
   "nbconvert_exporter": "python",
   "pygments_lexer": "ipython3",
   "version": "3.10.2"
  }
 },
 "nbformat": 4,
 "nbformat_minor": 5
}
