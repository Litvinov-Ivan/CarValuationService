{
 "cells": [
  {
   "cell_type": "code",
   "execution_count": null,
   "metadata": {},
   "outputs": [],
   "source": [
    "import os\n",
    "import random\n",
    "import warnings\n",
    "\n",
    "import numpy as np\n",
    "import pandas as pd\n",
    "import pyarrow.feather as ft\n",
    "\n",
    "import matplotlib.pyplot as plt\n",
    "import seaborn as sns\n",
    "\n",
    "from sklearn.feature_extraction.text import CountVectorizer\n",
    "\n",
    "import ipywidgets as widgets\n",
    "from ipywidgets.embed import embed_minimal_html\n",
    "from IPython.display import display\n",
    "from IPython.core.display import HTML\n",
    "\n",
    "from tqdm import tqdm\n",
    "from pprint import pprint\n",
    "\n",
    "%matplotlib inline\n",
    "warnings.simplefilter('ignore')"
   ]
  },
  {
   "cell_type": "code",
   "execution_count": null,
   "metadata": {},
   "outputs": [],
   "source": [
    "PATH = '../data'\n",
    "\n",
    "TRAIN_DATA = 'project_train.f'\n",
    "TEST_DATA = 'project_test_public.f'\n",
    "OPTION = 'option_names.csv'\n",
    "\n",
    "TRAIN_PATH = os.path.join(PATH, TRAIN_DATA)\n",
    "TEST_PATH = os.path.join(PATH, TEST_DATA)\n",
    "OPTION_PATH = os.path.join(PATH, OPTION)\n",
    "\n",
    "train_df = ft.read_feather(TRAIN_PATH)\n",
    "test_df = ft.read_feather(TEST_PATH)\n",
    "options = pd.read_csv(OPTION_PATH, index_col='id')"
   ]
  },
  {
   "cell_type": "code",
   "execution_count": null,
   "metadata": {},
   "outputs": [],
   "source": [
    "train_df.shape, test_df.shape"
   ]
  },
  {
   "cell_type": "code",
   "execution_count": null,
   "metadata": {},
   "outputs": [],
   "source": [
    "train_df.columns.difference(test_df.columns)"
   ]
  },
  {
   "attachments": {},
   "cell_type": "markdown",
   "metadata": {},
   "source": [
    "Данные содержат очень много колонок, попробуем сгруппировать их"
   ]
  },
  {
   "cell_type": "code",
   "execution_count": null,
   "metadata": {},
   "outputs": [],
   "source": [
    "type_dct = {str(k): list(v) for k, v in train_df.groupby(train_df.dtypes, axis=1)}\n",
    "pprint(type_dct, compact=True)"
   ]
  },
  {
   "cell_type": "code",
   "execution_count": null,
   "metadata": {},
   "outputs": [],
   "source": [
    "train_df['price'] = pd.to_numeric(train_df['price'])"
   ]
  },
  {
   "cell_type": "code",
   "execution_count": null,
   "metadata": {},
   "outputs": [],
   "source": [
    "def get_info(df: pd.DataFrame):\n",
    "    info_df = pd.DataFrame(columns=['type', 'n_uniq', 'multi_uniq', 'values', 'null_ratio'], index=df.columns)\n",
    "\n",
    "    for column in df.columns:\n",
    "        total = len(df[column])\n",
    "        null_ratio = df[column].isna().sum() / total\n",
    "        n_uniq = df[column].nunique()\n",
    "        uniq = df[column].unique()\n",
    "        column_type = df[column].dtype\n",
    "        type_name = ''\n",
    "        values = '---'\n",
    "        multi_n_uniq = '---'\n",
    "        if n_uniq > 100:\n",
    "            if column in ['latitude', 'longitude']:\n",
    "                type_name = 'geolocation'\n",
    "                values = [df[column].min(), df[column].max()]\n",
    "            elif column_type in ['float64', 'int64']:\n",
    "                type_name = 'numeric'\n",
    "                values = [df[column].min(), df[column].max()]\n",
    "            elif column_type in ['datetime64[ns]']:\n",
    "                type_name = 'date'\n",
    "                values = [df[column].min(), df[column].max()]\n",
    "            elif column in ['description']:\n",
    "                type_name = 'text'\n",
    "        if type_name == '' and column_type == 'object':\n",
    "            multi_uniq = np.unique(sum(map(lambda x: x.strip('[]').split(',') if x else [str(x)], train_df[column].unique()), []))\n",
    "            multi_n_uniq = len(multi_uniq) - 1\n",
    "            is_multi = len(uniq) > len(multi_uniq)\n",
    "            if n_uniq <= 2:\n",
    "                type_name = 'binary'\n",
    "                values = uniq\n",
    "            elif n_uniq <= 10:\n",
    "                if is_multi:\n",
    "                    type_name = 'multicategory'\n",
    "                    values = multi_uniq if multi_n_uniq <= 10 else np.append(multi_uniq[:10], '...')\n",
    "                else:\n",
    "                    type_name = 'category'\n",
    "                    values = uniq\n",
    "            else:\n",
    "                if is_multi:\n",
    "                    type_name = 'multicategory'\n",
    "                    values = multi_uniq if multi_n_uniq <= 10 else np.append(multi_uniq[:10], '...')\n",
    "                else:\n",
    "                    type_name = 'category'\n",
    "                    values = np.append(uniq[:10], '...')\n",
    "        if type_name == '':\n",
    "            if n_uniq <= 2:\n",
    "                type_name = 'binary'\n",
    "                values = uniq\n",
    "            elif n_uniq <= 10:\n",
    "                type_name = 'category'\n",
    "                values = uniq\n",
    "            else:\n",
    "                type_name = 'category'\n",
    "                values = np.append(uniq[:10], '...')\n",
    "        info_df.loc[column] = [type_name, n_uniq, multi_n_uniq, values, null_ratio]\n",
    "    return info_df"
   ]
  },
  {
   "cell_type": "code",
   "execution_count": null,
   "metadata": {},
   "outputs": [],
   "source": [
    "(train_df.brand + train_df.model + train_df.generation).nunique()"
   ]
  },
  {
   "cell_type": "code",
   "execution_count": null,
   "metadata": {},
   "outputs": [],
   "source": [
    "pd.set_option('display.max_rows', None)\n",
    "pd.set_option('display.max_colwidth', 1000)\n",
    "info_df = get_info(train_df)\n",
    "info_df"
   ]
  },
  {
   "cell_type": "code",
   "execution_count": null,
   "metadata": {},
   "outputs": [],
   "source": [
    "pd.reset_option('all')"
   ]
  },
  {
   "cell_type": "code",
   "execution_count": null,
   "metadata": {},
   "outputs": [],
   "source": [
    "for_vanya = ['generation', 'modification', 'equipment', 'description', 'audiosistema', 'diski', 'electropodemniki', 'fary', 'salon', 'upravlenie_klimatom', 'usilitel_rul',  'audiosistema_mult', 'shini_i_diski_mult']\n",
    "for_sasha = info_df[info_df.type == 'multicategory'].index.to_list()\n",
    "for_maxim = info_df.index.difference(for_vanya).difference(for_sasha).to_list()\n",
    "for_dict = {'Ваня': for_vanya, 'Саша': for_sasha, 'Максим': for_maxim}"
   ]
  },
  {
   "cell_type": "code",
   "execution_count": null,
   "metadata": {},
   "outputs": [],
   "source": [
    "pprint(for_dict, compact=True)"
   ]
  },
  {
   "attachments": {},
   "cell_type": "markdown",
   "metadata": {},
   "source": [
    "Колонки с типом **datetime64[ns]**:\n",
    "- 'start_date' - дата открытия объявления\n",
    "- 'close_date' - дата закрытия объявления\n",
    "- 'sale_end_date' - дата продажи авто дилером"
   ]
  },
  {
   "cell_type": "code",
   "execution_count": null,
   "metadata": {},
   "outputs": [],
   "source": [
    "funcs = [min, max, lambda x: x.max() - x.min(), 'count', lambda x: x.count() / len(x)]\n",
    "train_df[['start_date', 'close_date', 'sale_end_date']].agg(funcs).set_index(pd.Index(['start date', 'end date', 'range', 'count', 'ratio']))"
   ]
  },
  {
   "cell_type": "code",
   "execution_count": null,
   "metadata": {},
   "outputs": [],
   "source": [
    "train_df[['start_date', 'close_date', 'sale_end_date']].notnull().apply(lambda x: (x[0] & x[1]) | x[2], axis=1).all()"
   ]
  },
  {
   "attachments": {},
   "cell_type": "markdown",
   "metadata": {},
   "source": [
    "Все строки либо относятся к объявлениям, либо к продажам дилеров.\n",
    "\n",
    "Разделим train_df на данные дилеров и объявления."
   ]
  },
  {
   "cell_type": "code",
   "execution_count": null,
   "metadata": {},
   "outputs": [],
   "source": [
    "is_dealer = train_df['sale_end_date'].notnull()\n",
    "\n",
    "dealer_df = train_df[is_dealer]\n",
    "advert_df = train_df[~is_dealer]"
   ]
  },
  {
   "cell_type": "code",
   "execution_count": null,
   "metadata": {},
   "outputs": [],
   "source": [
    "dealer_df.shape, advert_df.shape"
   ]
  },
  {
   "cell_type": "code",
   "execution_count": null,
   "metadata": {},
   "outputs": [],
   "source": [
    "dealer_df.columns[dealer_df.nunique(dropna=False).eq(1)]"
   ]
  },
  {
   "cell_type": "code",
   "execution_count": null,
   "metadata": {},
   "outputs": [],
   "source": [
    "advert_df.columns[advert_df.nunique(dropna=False).eq(1)]"
   ]
  },
  {
   "cell_type": "code",
   "execution_count": null,
   "metadata": {},
   "outputs": [],
   "source": [
    "def get_multicat_info(values: np.array, column: str, dfs: list, names: list):\n",
    "    cv = CountVectorizer(preprocessor=lambda x: str(x).strip('[]'), tokenizer=lambda x: x.replace(', ', ',').split(','))\n",
    "    X = values\n",
    "    cv.fit(X)\n",
    "\n",
    "    index = np.unique(cv.transform(X).toarray(), axis=0)\n",
    "    index = sorted(index, key=lambda x: sum(x) + np.dot(np.array(x), 2 ** np.arange(len(x))) * 1e-8)\n",
    "    index = cv.inverse_transform(index)\n",
    "\n",
    "    flag = False\n",
    "    for row in index:\n",
    "        for idx in row:\n",
    "            if idx.isnumeric():\n",
    "                flag = True\n",
    "                break\n",
    "        else:\n",
    "            continue\n",
    "        break\n",
    "    if flag:\n",
    "        options_index = list(map(lambda row: list(map(lambda x: options.loc[int(x)].item() if x.isnumeric() else x, row)), index))\n",
    "        options_index = list(map(lambda x: ', '.join(x), options_index))\n",
    "\n",
    "    index = list(map(lambda x: ', '.join(x), index))\n",
    "    result_info = pd.DataFrame(index=options_index if flag else index)\n",
    "\n",
    "    for data, name in zip(dfs, names):\n",
    "        multicat_info = pd.DataFrame(columns=['total', 'percentage', 'multi total', 'multi percentage'], index=options_index if flag else index)\n",
    "        transformed_column = cv.transform(data[column]).toarray()\n",
    "        n = data.shape[0]\n",
    "        for idx, multicat in enumerate(index):\n",
    "            transformed_multicat = cv.transform([multicat]).toarray()[0]\n",
    "            total = (transformed_column == transformed_multicat).all(axis=1).sum()\n",
    "            percentage = total / n\n",
    "            multi_total = ((transformed_column - transformed_multicat) != -1).all(axis=1).sum()\n",
    "            multi_percentage = multi_total / n\n",
    "            multicat_info.loc[options_index[idx] if flag else multicat] = [total, np.round(percentage * 100, 4), multi_total, np.round(multi_percentage * 100, 4)]\n",
    "\n",
    "        multicat_info.columns = pd.MultiIndex.from_product([[name], multicat_info.columns])\n",
    "        result_info = pd.concat([result_info, multicat_info], axis=1)\n",
    "\n",
    "    result_info.columns = pd.MultiIndex.from_tuples(result_info.columns)\n",
    "    return result_info.drop(['total', 'multi total'], axis=1, level=1)"
   ]
  },
  {
   "cell_type": "code",
   "execution_count": null,
   "metadata": {},
   "outputs": [],
   "source": [
    "damage_features = ['Передняя левая фара', 'Передняя правая фара', 'Правое зеркало',\n",
    "          'Левое зеркало', 'Капот', 'Заднее правое крыло', 'Заднее левое крыло',\n",
    "          'Передняя левая дверь', 'Крыша', 'Переднее правое крыло',\n",
    "          'Заднее стекло', 'Задний бампер', 'Передняя правая дверь',\n",
    "          'Задняя правая фара', 'Дверь багажника', 'Переднее левое крыло',\n",
    "          'Лобовое стекло', 'Задняя правая дверь', 'Передний бампер',\n",
    "          'Задняя левая фара', 'Задняя левая дверь']\n",
    "\n",
    "outs = {}\n",
    "dict_info = {}\n",
    "\n",
    "for name in damage_features:\n",
    "    temp = widgets.Output()\n",
    "    outs[name] = temp\n",
    "    X = pd.unique(np.concatenate([train_df[name].unique(), test_df[name].unique()]))\n",
    "    dict_info[name] = get_multicat_info(X, name, dfs=[train_df, dealer_df, advert_df, test_df], names=['train_df', 'dealer_df', 'advert_df', 'test_df'])\n",
    "\n",
    "\n",
    "accordion = widgets.Accordion(children=list(outs.values()))\n",
    "\n",
    "for i, name in enumerate(damage_features):\n",
    "    accordion.set_title(i, name)\n",
    "\n",
    "# display(\n",
    "#     HTML(\n",
    "#         \"\"\"\n",
    "# <style>\n",
    "# .jupyter-widgets.widget-tab > .p-TabBar .p-TabBar-tab {\n",
    "#     flex: 0 1 auto\n",
    "# }\n",
    "# </style>\n",
    "# \"\"\"\n",
    "#     )\n",
    "# )\n",
    "\n",
    "for name in damage_features:\n",
    "    with outs[name]:\n",
    "        display(dict_info[name])\n",
    "accordion.selected_index = None\n",
    "# display(accordion)"
   ]
  },
  {
   "cell_type": "code",
   "execution_count": null,
   "metadata": {},
   "outputs": [],
   "source": [
    "embed_minimal_html('damage_features.html', views=[accordion], title='damage_features report export')"
   ]
  },
  {
   "cell_type": "code",
   "execution_count": null,
   "metadata": {},
   "outputs": [],
   "source": [
    "display(HTML(filename='./damage_features.html'))"
   ]
  },
  {
   "cell_type": "code",
   "execution_count": null,
   "metadata": {},
   "outputs": [],
   "source": [
    "component_features = ['aktivnaya_bezopasnost_mult', 'electroprivod_mult', 'fary_mult',\n",
    "          'multimedia_navigacia_mult', 'obogrev_mult', 'pamyat_nastroek_mult',\n",
    "          'podushki_bezopasnosti_mult', 'pomosh_pri_vozhdenii_mult',\n",
    "          'protivoygonnaya_sistema_mult', 'salon_mult',\n",
    "          'upravlenie_klimatom_mult']\n",
    "\n",
    "outs = {}\n",
    "dict_info = {}\n",
    "\n",
    "for name in component_features:\n",
    "    temp = widgets.Output()\n",
    "    outs[name] = temp\n",
    "    X = pd.unique(np.concatenate([train_df[name].unique(), test_df[name].unique()]))\n",
    "    dict_info[name] = get_multicat_info(X, name, dfs=[train_df, dealer_df, advert_df, test_df], names=['train_df', 'dealer_df', 'advert_df', 'test_df'])\n",
    "\n",
    "\n",
    "accordion = widgets.Accordion(children=list(outs.values()))\n",
    "\n",
    "for i, name in enumerate(component_features):\n",
    "    accordion.set_title(i, name)\n",
    "\n",
    "# display(\n",
    "#     HTML(\n",
    "#         \"\"\"\n",
    "# <style>\n",
    "# .jupyter-widgets.widget-tab > .p-TabBar .p-TabBar-tab {\n",
    "#     flex: 0 1 auto\n",
    "# }\n",
    "# </style>\n",
    "# \"\"\"\n",
    "#     )\n",
    "# )\n",
    "\n",
    "for name in component_features:\n",
    "    with outs[name]:\n",
    "        display(dict_info[name])\n",
    "accordion.selected_index = None\n",
    "# display(accordion)"
   ]
  },
  {
   "cell_type": "code",
   "execution_count": null,
   "metadata": {},
   "outputs": [],
   "source": [
    "embed_minimal_html('component_features.html', views=[accordion], title='component_features report export')"
   ]
  },
  {
   "cell_type": "code",
   "execution_count": null,
   "metadata": {},
   "outputs": [],
   "source": [
    "display(HTML(filename='./component_features.html'))"
   ]
  },
  {
   "cell_type": "code",
   "execution_count": null,
   "metadata": {},
   "outputs": [],
   "source": [
    "get_multicat_info(train_df['protivoygonnaya_sistema_mult'].unique(), 'protivoygonnaya_sistema_mult', dfs=[train_df, dealer_df, advert_df], names=['train_df', 'dealer_df', 'advert_df'])"
   ]
  },
  {
   "cell_type": "code",
   "execution_count": null,
   "metadata": {},
   "outputs": [],
   "source": [
    "# from dataprep.eda import plot, plot_correlation, plot_missing, plot_diff, create_report\n",
    "\n",
    "# create_report(dealer_df.drop(['start_date', 'close_date', 'Заднее стекло'], axis=1), progress=False).save('report_dealer_df.html')"
   ]
  }
 ],
 "metadata": {
  "kernelspec": {
   "display_name": ".venv",
   "language": "python",
   "name": "python3"
  },
  "language_info": {
   "codemirror_mode": {
    "name": "ipython",
    "version": 3
   },
   "file_extension": ".py",
   "mimetype": "text/x-python",
   "name": "python",
   "nbconvert_exporter": "python",
   "pygments_lexer": "ipython3",
   "version": "3.9.12"
  },
  "orig_nbformat": 4
 },
 "nbformat": 4,
 "nbformat_minor": 2
}
